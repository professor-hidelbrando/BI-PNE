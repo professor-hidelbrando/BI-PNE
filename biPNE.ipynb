{
 "cells": [
  {
   "cell_type": "markdown",
   "metadata": {},
   "source": [
    "# Business Inteligence - Plano Nacional de Educação\n"
   ]
  },
  {
   "cell_type": "markdown",
   "metadata": {},
   "source": [
    "## Metodologia\n",
    "\n",
    "A estimativa de indicadores municipais esbarra na não existência, na maioria dos casos, de dados desagregados neste nível. Para contornar esse problema, optou-se por estimar a população das cidades pesquisadas a partir da distribuição por idade da população brasieira disponível no site do IBGE. Como o IBGE informa total da população brasileira distribuiada por idade (de 0 a 90+), calculou-se para cada idade. O IBGE informa apenas a estimativa total, ano a ano, da população dos munícípios. À estimativa da população de cada munípio, aplicou-se o índice calculado a partir da distribuição das idades da população total brasileira. \n",
    "\n",
    "Vale destar que o ideal seria, pelo menos a dsitribuição das idades a partir de dados da Região Norte, prefencialmente, do Amazonas. Mas foram localizados este dados desagregados por idade e unidade da federação. A estimativa da população dos municípios do Amazonas a partir de indicadores nacionais, certamente deve ser considerado na análise dos indicadores derivativos. Apesar do viés esperados, foi o caminho escolhido diante da ausênica de estatísticas das populações municipais, desagregadas por idade."
   ]
  },
  {
   "cell_type": "markdown",
   "metadata": {},
   "source": [
    "### Meta 1 - universalizar, até 2016, a educação infantil na pré-escola para as crianças de 4 (quatro) a 5 (cinco) anos de idade e ampliar a oferta de educação infantil em creches, de forma a atender, no mínimo, 50% (cinquenta por cento) das crianças de até 3 (três) anos até o final da vigência deste PNE.\n",
    "\n",
    "- Indicador 1 A – Percentual da população de 4 e 5 anos que frequenta a escola\n",
    "O indicador representa a proporção de crianças de 4 e 5 anos de idade que frequentam a escola em relação à população total dessa faixa etária. Esse indicador informa apenas se essa população tem acesso ou não à educação, não captando outros fatores relacionados à qualidade da oferta de ensino.\n",
    "Indicador 1B – Percentual da população de 0 a 3 anos que frequenta a escola/creche\n",
    "\n",
    "- O indicador representa a proporção de crianças de 0 a 3 anos de idade que frequentam a escola em relação à população total dessa faixa etária. Esse indicador informa apenas se essa população tem acesso ou não à educação, não captando outros fatores relacionados à qualidade da oferta de ensino.\n",
    "\n"
   ]
  },
  {
   "cell_type": "markdown",
   "metadata": {},
   "source": [
    "#### Parte 1: Dados PNAD - Estimativa das Populações Locais"
   ]
  },
  {
   "cell_type": "code",
   "execution_count": 1,
   "metadata": {},
   "outputs": [
    {
     "name": "stderr",
     "output_type": "stream",
     "text": [
      "Loading required package: tidyverse\n",
      "Registered S3 methods overwritten by 'ggplot2':\n",
      "  method         from \n",
      "  [.quosures     rlang\n",
      "  c.quosures     rlang\n",
      "  print.quosures rlang\n",
      "Registered S3 method overwritten by 'rvest':\n",
      "  method            from\n",
      "  read_xml.response xml2\n",
      "-- Attaching packages --------------------------------------- tidyverse 1.2.1 --\n",
      "v ggplot2 3.1.1       v purrr   0.3.2  \n",
      "v tibble  2.1.1       v dplyr   0.8.0.1\n",
      "v tidyr   0.8.3       v stringr 1.4.0  \n",
      "v readr   1.3.1       v forcats 0.4.0  \n",
      "-- Conflicts ------------------------------------------ tidyverse_conflicts() --\n",
      "x dplyr::filter() masks stats::filter()\n",
      "x dplyr::lag()    masks stats::lag()\n",
      "Loading required package: data.table\n",
      "\n",
      "Attaching package: 'data.table'\n",
      "\n",
      "The following objects are masked from 'package:dplyr':\n",
      "\n",
      "    between, first, last\n",
      "\n",
      "The following object is masked from 'package:purrr':\n",
      "\n",
      "    transpose\n",
      "\n",
      "Loading required package: readxl\n",
      "Loading required package: xlsx\n",
      "Warning message in library(package, lib.loc = lib.loc, character.only = TRUE, logical.return = TRUE, :\n",
      "\"there is no package called 'xlsx'\"Loading required package: lubridate\n",
      "\n",
      "Attaching package: 'lubridate'\n",
      "\n",
      "The following objects are masked from 'package:data.table':\n",
      "\n",
      "    hour, isoweek, mday, minute, month, quarter, second, wday, week,\n",
      "    yday, year\n",
      "\n",
      "The following object is masked from 'package:base':\n",
      "\n",
      "    date\n",
      "\n",
      "Loading required package: skimr\n",
      "Warning message in library(package, lib.loc = lib.loc, character.only = TRUE, logical.return = TRUE, :\n",
      "\"there is no package called 'skimr'\"Loading required package: writexl\n",
      "Warning message in library(package, lib.loc = lib.loc, character.only = TRUE, logical.return = TRUE, :\n",
      "\"there is no package called 'writexl'\""
     ]
    },
    {
     "data": {
      "text/html": [
       "<ol>\n",
       "\t<li>TRUE</li>\n",
       "\t<li>TRUE</li>\n",
       "\t<li>TRUE</li>\n",
       "\t<li>TRUE</li>\n",
       "\t<li>FALSE</li>\n",
       "\t<li>TRUE</li>\n",
       "\t<li>FALSE</li>\n",
       "\t<li>FALSE</li>\n",
       "</ol>\n"
      ],
      "text/latex": [
       "\\begin{enumerate}\n",
       "\\item TRUE\n",
       "\\item TRUE\n",
       "\\item TRUE\n",
       "\\item TRUE\n",
       "\\item FALSE\n",
       "\\item TRUE\n",
       "\\item FALSE\n",
       "\\item FALSE\n",
       "\\end{enumerate}\n"
      ],
      "text/markdown": [
       "1. TRUE\n",
       "2. TRUE\n",
       "3. TRUE\n",
       "4. TRUE\n",
       "5. FALSE\n",
       "6. TRUE\n",
       "7. FALSE\n",
       "8. FALSE\n",
       "\n",
       "\n"
      ],
      "text/plain": [
       "[[1]]\n",
       "[1] TRUE\n",
       "\n",
       "[[2]]\n",
       "[1] TRUE\n",
       "\n",
       "[[3]]\n",
       "[1] TRUE\n",
       "\n",
       "[[4]]\n",
       "[1] TRUE\n",
       "\n",
       "[[5]]\n",
       "[1] FALSE\n",
       "\n",
       "[[6]]\n",
       "[1] TRUE\n",
       "\n",
       "[[7]]\n",
       "[1] FALSE\n",
       "\n",
       "[[8]]\n",
       "[1] FALSE\n"
      ]
     },
     "metadata": {},
     "output_type": "display_data"
    }
   ],
   "source": [
    "vetorDePacotes <- c(\"tidyverse\", \"data.table\", \"readxl\", \"readr\", \"xlsx\", \"lubridate\", \"skimr\", \"writexl\")\n",
    "lapply(vetorDePacotes, require, character.only = TRUE)"
   ]
  },
  {
   "cell_type": "code",
   "execution_count": 2,
   "metadata": {},
   "outputs": [
    {
     "data": {
      "text/html": [
       "<table>\n",
       "<thead><tr><th scope=col>2012</th><th scope=col>2013</th><th scope=col>2014</th><th scope=col>2015</th><th scope=col>2016</th><th scope=col>2017</th><th scope=col>2018</th><th scope=col>2019</th></tr></thead>\n",
       "<tbody>\n",
       "\t<tr><td>2921808</td><td>2912978</td><td>2951596</td><td>3011378</td><td>2949233</td><td>2925966</td><td>2978233</td><td>2960946</td></tr>\n",
       "\t<tr><td>2906630</td><td>2916094</td><td>2907571</td><td>2946396</td><td>3006426</td><td>2944629</td><td>2921621</td><td>2974028</td></tr>\n",
       "\t<tr><td>2896967</td><td>2904257</td><td>2913780</td><td>2905337</td><td>2944202</td><td>3004309</td><td>2942668</td><td>2919723</td></tr>\n",
       "\t<tr><td>2939569</td><td>2895464</td><td>2902799</td><td>2912360</td><td>2903970</td><td>2942897</td><td>3003071</td><td>2941493</td></tr>\n",
       "\t<tr><td>2959327</td><td>2938377</td><td>2894324</td><td>2901688</td><td>2911281</td><td>2902975</td><td>2941964</td><td>3002142</td></tr>\n",
       "\t<tr><td>2982613</td><td>2958365</td><td>2937447</td><td>2893442</td><td>2900833</td><td>2910497</td><td>2902265</td><td>2941253</td></tr>\n",
       "</tbody>\n",
       "</table>\n"
      ],
      "text/latex": [
       "\\begin{tabular}{r|llllllll}\n",
       " 2012 & 2013 & 2014 & 2015 & 2016 & 2017 & 2018 & 2019\\\\\n",
       "\\hline\n",
       "\t 2921808 & 2912978 & 2951596 & 3011378 & 2949233 & 2925966 & 2978233 & 2960946\\\\\n",
       "\t 2906630 & 2916094 & 2907571 & 2946396 & 3006426 & 2944629 & 2921621 & 2974028\\\\\n",
       "\t 2896967 & 2904257 & 2913780 & 2905337 & 2944202 & 3004309 & 2942668 & 2919723\\\\\n",
       "\t 2939569 & 2895464 & 2902799 & 2912360 & 2903970 & 2942897 & 3003071 & 2941493\\\\\n",
       "\t 2959327 & 2938377 & 2894324 & 2901688 & 2911281 & 2902975 & 2941964 & 3002142\\\\\n",
       "\t 2982613 & 2958365 & 2937447 & 2893442 & 2900833 & 2910497 & 2902265 & 2941253\\\\\n",
       "\\end{tabular}\n"
      ],
      "text/markdown": [
       "\n",
       "| 2012 | 2013 | 2014 | 2015 | 2016 | 2017 | 2018 | 2019 |\n",
       "|---|---|---|---|---|---|---|---|\n",
       "| 2921808 | 2912978 | 2951596 | 3011378 | 2949233 | 2925966 | 2978233 | 2960946 |\n",
       "| 2906630 | 2916094 | 2907571 | 2946396 | 3006426 | 2944629 | 2921621 | 2974028 |\n",
       "| 2896967 | 2904257 | 2913780 | 2905337 | 2944202 | 3004309 | 2942668 | 2919723 |\n",
       "| 2939569 | 2895464 | 2902799 | 2912360 | 2903970 | 2942897 | 3003071 | 2941493 |\n",
       "| 2959327 | 2938377 | 2894324 | 2901688 | 2911281 | 2902975 | 2941964 | 3002142 |\n",
       "| 2982613 | 2958365 | 2937447 | 2893442 | 2900833 | 2910497 | 2902265 | 2941253 |\n",
       "\n"
      ],
      "text/plain": [
       "  2012    2013    2014    2015    2016    2017    2018    2019   \n",
       "1 2921808 2912978 2951596 3011378 2949233 2925966 2978233 2960946\n",
       "2 2906630 2916094 2907571 2946396 3006426 2944629 2921621 2974028\n",
       "3 2896967 2904257 2913780 2905337 2944202 3004309 2942668 2919723\n",
       "4 2939569 2895464 2902799 2912360 2903970 2942897 3003071 2941493\n",
       "5 2959327 2938377 2894324 2901688 2911281 2902975 2941964 3002142\n",
       "6 2982613 2958365 2937447 2893442 2900833 2910497 2902265 2941253"
      ]
     },
     "metadata": {},
     "output_type": "display_data"
    }
   ],
   "source": [
    "df_projecoes <- read_excel(\"projecoes_2018_populacao_2010_2060.xls\", skip = 195, n_max = 92)\n",
    "nomesCidades <- df_projecoes[1]\n",
    "df_projecoes <-df_projecoes[4:11]\n",
    "head(df_projecoes)"
   ]
  },
  {
   "cell_type": "code",
   "execution_count": 3,
   "metadata": {},
   "outputs": [
    {
     "data": {
      "text/html": [
       "<table>\n",
       "<thead><tr><th scope=col>2012</th><th scope=col>2013</th><th scope=col>2014</th><th scope=col>2015</th><th scope=col>2016</th><th scope=col>2017</th><th scope=col>2018</th><th scope=col>2019</th></tr></thead>\n",
       "<tbody>\n",
       "\t<tr><td>0.01473317</td><td>0.01456459</td><td>0.01463232</td><td>0.01479969</td><td>0.01437552</td><td>0.01414845</td><td>0.01428444</td><td>0.01408987</td></tr>\n",
       "\t<tr><td>0.01465664</td><td>0.01458016</td><td>0.01441407</td><td>0.01448033</td><td>0.01465430</td><td>0.01423869</td><td>0.01401291</td><td>0.01415212</td></tr>\n",
       "\t<tr><td>0.01460791</td><td>0.01452098</td><td>0.01444485</td><td>0.01427855</td><td>0.01435100</td><td>0.01452727</td><td>0.01411386</td><td>0.01389371</td></tr>\n",
       "\t<tr><td>0.01482273</td><td>0.01447702</td><td>0.01439041</td><td>0.01431306</td><td>0.01415490</td><td>0.01423032</td><td>0.01440357</td><td>0.01399730</td></tr>\n",
       "\t<tr><td>0.01492236</td><td>0.01469158</td><td>0.01434840</td><td>0.01426061</td><td>0.01419053</td><td>0.01403727</td><td>0.01411048</td><td>0.01428591</td></tr>\n",
       "\t<tr><td>0.01503978</td><td>0.01479152</td><td>0.01456218</td><td>0.01422009</td><td>0.01413960</td><td>0.01407365</td><td>0.01392008</td><td>0.01399616</td></tr>\n",
       "</tbody>\n",
       "</table>\n"
      ],
      "text/latex": [
       "\\begin{tabular}{r|llllllll}\n",
       " 2012 & 2013 & 2014 & 2015 & 2016 & 2017 & 2018 & 2019\\\\\n",
       "\\hline\n",
       "\t 0.01473317 & 0.01456459 & 0.01463232 & 0.01479969 & 0.01437552 & 0.01414845 & 0.01428444 & 0.01408987\\\\\n",
       "\t 0.01465664 & 0.01458016 & 0.01441407 & 0.01448033 & 0.01465430 & 0.01423869 & 0.01401291 & 0.01415212\\\\\n",
       "\t 0.01460791 & 0.01452098 & 0.01444485 & 0.01427855 & 0.01435100 & 0.01452727 & 0.01411386 & 0.01389371\\\\\n",
       "\t 0.01482273 & 0.01447702 & 0.01439041 & 0.01431306 & 0.01415490 & 0.01423032 & 0.01440357 & 0.01399730\\\\\n",
       "\t 0.01492236 & 0.01469158 & 0.01434840 & 0.01426061 & 0.01419053 & 0.01403727 & 0.01411048 & 0.01428591\\\\\n",
       "\t 0.01503978 & 0.01479152 & 0.01456218 & 0.01422009 & 0.01413960 & 0.01407365 & 0.01392008 & 0.01399616\\\\\n",
       "\\end{tabular}\n"
      ],
      "text/markdown": [
       "\n",
       "| 2012 | 2013 | 2014 | 2015 | 2016 | 2017 | 2018 | 2019 |\n",
       "|---|---|---|---|---|---|---|---|\n",
       "| 0.01473317 | 0.01456459 | 0.01463232 | 0.01479969 | 0.01437552 | 0.01414845 | 0.01428444 | 0.01408987 |\n",
       "| 0.01465664 | 0.01458016 | 0.01441407 | 0.01448033 | 0.01465430 | 0.01423869 | 0.01401291 | 0.01415212 |\n",
       "| 0.01460791 | 0.01452098 | 0.01444485 | 0.01427855 | 0.01435100 | 0.01452727 | 0.01411386 | 0.01389371 |\n",
       "| 0.01482273 | 0.01447702 | 0.01439041 | 0.01431306 | 0.01415490 | 0.01423032 | 0.01440357 | 0.01399730 |\n",
       "| 0.01492236 | 0.01469158 | 0.01434840 | 0.01426061 | 0.01419053 | 0.01403727 | 0.01411048 | 0.01428591 |\n",
       "| 0.01503978 | 0.01479152 | 0.01456218 | 0.01422009 | 0.01413960 | 0.01407365 | 0.01392008 | 0.01399616 |\n",
       "\n"
      ],
      "text/plain": [
       "  2012       2013       2014       2015       2016       2017       2018      \n",
       "1 0.01473317 0.01456459 0.01463232 0.01479969 0.01437552 0.01414845 0.01428444\n",
       "2 0.01465664 0.01458016 0.01441407 0.01448033 0.01465430 0.01423869 0.01401291\n",
       "3 0.01460791 0.01452098 0.01444485 0.01427855 0.01435100 0.01452727 0.01411386\n",
       "4 0.01482273 0.01447702 0.01439041 0.01431306 0.01415490 0.01423032 0.01440357\n",
       "5 0.01492236 0.01469158 0.01434840 0.01426061 0.01419053 0.01403727 0.01411048\n",
       "6 0.01503978 0.01479152 0.01456218 0.01422009 0.01413960 0.01407365 0.01392008\n",
       "  2019      \n",
       "1 0.01408987\n",
       "2 0.01415212\n",
       "3 0.01389371\n",
       "4 0.01399730\n",
       "5 0.01428591\n",
       "6 0.01399616"
      ]
     },
     "metadata": {},
     "output_type": "display_data"
    }
   ],
   "source": [
    "indices <- df_projecoes\n",
    "nomesCidades <- df_projecoes[1]\n",
    "for (p in 1:length(df_projecoes)) {\n",
    "  indices[p] = df_projecoes[,p]/apply(df_projecoes[,p], 2, sum)\n",
    "}\n",
    "head(indices)"
   ]
  },
  {
   "cell_type": "code",
   "execution_count": 77,
   "metadata": {},
   "outputs": [
    {
     "data": {
      "text/html": [
       "<table>\n",
       "<thead><tr><th scope=col>POPULAÇÃO ESTIMADA</th></tr></thead>\n",
       "<tbody>\n",
       "\t<tr><td>97122</td></tr>\n",
       "\t<tr><td>8953 </td></tr>\n",
       "\t<tr><td>35156</td></tr>\n",
       "\t<tr><td>12781</td></tr>\n",
       "\t<tr><td>9081 </td></tr>\n",
       "\t<tr><td>17163</td></tr>\n",
       "\t<tr><td>21140</td></tr>\n",
       "</tbody>\n",
       "</table>\n"
      ],
      "text/latex": [
       "\\begin{tabular}{r|l}\n",
       " POPULAÇÃO ESTIMADA\\\\\n",
       "\\hline\n",
       "\t 97122\\\\\n",
       "\t 8953 \\\\\n",
       "\t 35156\\\\\n",
       "\t 12781\\\\\n",
       "\t 9081 \\\\\n",
       "\t 17163\\\\\n",
       "\t 21140\\\\\n",
       "\\end{tabular}\n"
      ],
      "text/markdown": [
       "\n",
       "| POPULAÇÃO ESTIMADA |\n",
       "|---|\n",
       "| 97122 |\n",
       "| 8953  |\n",
       "| 35156 |\n",
       "| 12781 |\n",
       "| 9081  |\n",
       "| 17163 |\n",
       "| 21140 |\n",
       "\n"
      ],
      "text/plain": [
       "  POPULAÇÃO ESTIMADA\n",
       "1 97122             \n",
       "2 8953              \n",
       "3 35156             \n",
       "4 12781             \n",
       "5 9081              \n",
       "6 17163             \n",
       "7 21140             "
      ]
     },
     "metadata": {},
     "output_type": "display_data"
    }
   ],
   "source": [
    "datas = seq.Date(from = as_date(\"2013-01-01\"), as_date(\"2019-01-01\"), by=\"year\")\n",
    "dt=datas[3]\n",
    "caminho2 = format(dt, \"estimativa_%Y_dou.xls\")\n",
    "lerArquivo = read_excel(caminho2, skip = 2, sheet = 2)\n",
    "municipios = lerArquivo[c(103,105,117,128,129,135,136),c(5)]\n",
    "municipios"
   ]
  },
  {
   "cell_type": "code",
   "execution_count": 125,
   "metadata": {},
   "outputs": [],
   "source": [
    "datas = seq.Date(from = as_date(\"2013-01-01\"), as_date(\"2019-01-01\"), by=\"year\")\n",
    "dt = datas[3]\n",
    "carregarArquivo = function(dt, k){\n",
    "  caminho2   = format(as_date(dt), \"estimativa_%Y_dou.xls\" )\n",
    "  lerArquivo = read_excel(caminho2, skip = 2, sheet = 2)\n",
    "  municipios = lerArquivo[c(103,105,117,128,129,135,136),c(k)]\n",
    "  \n",
    "  return(municipios)\n",
    "}"
   ]
  },
  {
   "cell_type": "code",
   "execution_count": 126,
   "metadata": {},
   "outputs": [
    {
     "data": {
      "text/html": [
       "<table>\n",
       "<thead><tr><th scope=col>POPULAÇÃO ESTIMADA</th></tr></thead>\n",
       "<tbody>\n",
       "\t<tr><td>97122</td></tr>\n",
       "\t<tr><td>8953 </td></tr>\n",
       "\t<tr><td>35156</td></tr>\n",
       "\t<tr><td>12781</td></tr>\n",
       "\t<tr><td>9081 </td></tr>\n",
       "\t<tr><td>17163</td></tr>\n",
       "\t<tr><td>21140</td></tr>\n",
       "</tbody>\n",
       "</table>\n"
      ],
      "text/latex": [
       "\\begin{tabular}{r|l}\n",
       " POPULAÇÃO ESTIMADA\\\\\n",
       "\\hline\n",
       "\t 97122\\\\\n",
       "\t 8953 \\\\\n",
       "\t 35156\\\\\n",
       "\t 12781\\\\\n",
       "\t 9081 \\\\\n",
       "\t 17163\\\\\n",
       "\t 21140\\\\\n",
       "\\end{tabular}\n"
      ],
      "text/markdown": [
       "\n",
       "| POPULAÇÃO ESTIMADA |\n",
       "|---|\n",
       "| 97122 |\n",
       "| 8953  |\n",
       "| 35156 |\n",
       "| 12781 |\n",
       "| 9081  |\n",
       "| 17163 |\n",
       "| 21140 |\n",
       "\n"
      ],
      "text/plain": [
       "  POPULAÇÃO ESTIMADA\n",
       "1 97122             \n",
       "2 8953              \n",
       "3 35156             \n",
       "4 12781             \n",
       "5 9081              \n",
       "6 17163             \n",
       "7 21140             "
      ]
     },
     "metadata": {},
     "output_type": "display_data"
    }
   ],
   "source": [
    "carregarArquivo(dt,5)"
   ]
  }
 ],
 "metadata": {
  "kernelspec": {
   "display_name": "R",
   "language": "R",
   "name": "ir"
  },
  "language_info": {
   "codemirror_mode": "r",
   "file_extension": ".r",
   "mimetype": "text/x-r-source",
   "name": "R",
   "pygments_lexer": "r",
   "version": "3.6.1"
  }
 },
 "nbformat": 4,
 "nbformat_minor": 4
}
