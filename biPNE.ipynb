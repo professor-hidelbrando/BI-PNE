{
 "cells": [
  {
   "cell_type": "markdown",
   "metadata": {},
   "source": [
    "# Business Inteligence - Plano Nacional de Educação\n"
   ]
  },
  {
   "cell_type": "markdown",
   "metadata": {},
   "source": [
    "## Metodologia\n",
    "\n",
    "A estimativa de indicadores municipais esbarra na não existência, na maioria dos casos, de dados desagregados neste nível. Para contornar esse problema, optou-se por estimar a população das cidades pesquisadas a partir da distribuição por idade da população brasieira disponível no site do IBGE. Como o IBGE informa total da população brasileira distribuiada por idade (de 0 a 90+), calculou-se para cada idade. O IBGE informa apenas a estimativa total, ano a ano, da população dos munícípios. À estimativa da população de cada munípio, aplicou-se o índice calculado a partir da distribuição das idades da população total brasileira. \n",
    "\n",
    "Vale destar que o ideal seria, pelo menos a dsitribuição das idades a partir de dados da Região Norte, prefencialmente, do Amazonas. Mas foram localizados este dados desagregados por idade e unidade da federação. A estimativa da população dos municípios do Amazonas a partir de indicadores nacionais, certamente deve ser considerado na análise dos indicadores derivativos. Apesar do viés esperados, foi o caminho escolhido diante da ausênica de estatísticas das populações municipais, desagregadas por idade."
   ]
  },
  {
   "cell_type": "markdown",
   "metadata": {},
   "source": [
    "### Meta 1 - universalizar, até 2016, a educação infantil na pré-escola para as crianças de 4 (quatro) a 5 (cinco) anos de idade e ampliar a oferta de educação infantil em creches, de forma a atender, no mínimo, 50% (cinquenta por cento) das crianças de até 3 (três) anos até o final da vigência deste PNE.\n",
    "\n",
    "- Indicador 1 A – Percentual da população de 4 e 5 anos que frequenta a escola\n",
    "O indicador representa a proporção de crianças de 4 e 5 anos de idade que frequentam a escola em relação à população total dessa faixa etária. Esse indicador informa apenas se essa população tem acesso ou não à educação, não captando outros fatores relacionados à qualidade da oferta de ensino.\n",
    "Indicador 1B – Percentual da população de 0 a 3 anos que frequenta a escola/creche\n",
    "\n",
    "- O indicador representa a proporção de crianças de 0 a 3 anos de idade que frequentam a escola em relação à população total dessa faixa etária. Esse indicador informa apenas se essa população tem acesso ou não à educação, não captando outros fatores relacionados à qualidade da oferta de ensino.\n",
    "\n"
   ]
  },
  {
   "cell_type": "markdown",
   "metadata": {},
   "source": [
    "#### # Passo 1: Listar e carregar os pac otes que serão utilizados"
   ]
  },
  {
   "cell_type": "code",
   "execution_count": 1,
   "metadata": {},
   "outputs": [
    {
     "name": "stderr",
     "output_type": "stream",
     "text": [
      "Loading required package: tidyverse\n",
      "Registered S3 methods overwritten by 'ggplot2':\n",
      "  method         from \n",
      "  [.quosures     rlang\n",
      "  c.quosures     rlang\n",
      "  print.quosures rlang\n",
      "Registered S3 method overwritten by 'rvest':\n",
      "  method            from\n",
      "  read_xml.response xml2\n",
      "-- Attaching packages --------------------------------------- tidyverse 1.2.1 --\n",
      "v ggplot2 3.1.1       v purrr   0.3.2  \n",
      "v tibble  2.1.1       v dplyr   0.8.0.1\n",
      "v tidyr   0.8.3       v stringr 1.4.0  \n",
      "v readr   1.3.1       v forcats 0.4.0  \n",
      "-- Conflicts ------------------------------------------ tidyverse_conflicts() --\n",
      "x dplyr::filter() masks stats::filter()\n",
      "x dplyr::lag()    masks stats::lag()\n",
      "Loading required package: data.table\n",
      "\n",
      "Attaching package: 'data.table'\n",
      "\n",
      "The following objects are masked from 'package:dplyr':\n",
      "\n",
      "    between, first, last\n",
      "\n",
      "The following object is masked from 'package:purrr':\n",
      "\n",
      "    transpose\n",
      "\n",
      "Loading required package: readxl\n",
      "Loading required package: xlsx\n",
      "Warning message in library(package, lib.loc = lib.loc, character.only = TRUE, logical.return = TRUE, :\n",
      "\"there is no package called 'xlsx'\"Loading required package: lubridate\n",
      "\n",
      "Attaching package: 'lubridate'\n",
      "\n",
      "The following objects are masked from 'package:data.table':\n",
      "\n",
      "    hour, isoweek, mday, minute, month, quarter, second, wday, week,\n",
      "    yday, year\n",
      "\n",
      "The following object is masked from 'package:base':\n",
      "\n",
      "    date\n",
      "\n",
      "Loading required package: skimr\n",
      "Warning message in library(package, lib.loc = lib.loc, character.only = TRUE, logical.return = TRUE, :\n",
      "\"there is no package called 'skimr'\"Loading required package: writexl\n",
      "Warning message in library(package, lib.loc = lib.loc, character.only = TRUE, logical.return = TRUE, :\n",
      "\"there is no package called 'writexl'\""
     ]
    },
    {
     "data": {
      "text/html": [
       "<ol>\n",
       "\t<li>TRUE</li>\n",
       "\t<li>TRUE</li>\n",
       "\t<li>TRUE</li>\n",
       "\t<li>TRUE</li>\n",
       "\t<li>FALSE</li>\n",
       "\t<li>TRUE</li>\n",
       "\t<li>FALSE</li>\n",
       "\t<li>FALSE</li>\n",
       "</ol>\n"
      ],
      "text/latex": [
       "\\begin{enumerate}\n",
       "\\item TRUE\n",
       "\\item TRUE\n",
       "\\item TRUE\n",
       "\\item TRUE\n",
       "\\item FALSE\n",
       "\\item TRUE\n",
       "\\item FALSE\n",
       "\\item FALSE\n",
       "\\end{enumerate}\n"
      ],
      "text/markdown": [
       "1. TRUE\n",
       "2. TRUE\n",
       "3. TRUE\n",
       "4. TRUE\n",
       "5. FALSE\n",
       "6. TRUE\n",
       "7. FALSE\n",
       "8. FALSE\n",
       "\n",
       "\n"
      ],
      "text/plain": [
       "[[1]]\n",
       "[1] TRUE\n",
       "\n",
       "[[2]]\n",
       "[1] TRUE\n",
       "\n",
       "[[3]]\n",
       "[1] TRUE\n",
       "\n",
       "[[4]]\n",
       "[1] TRUE\n",
       "\n",
       "[[5]]\n",
       "[1] FALSE\n",
       "\n",
       "[[6]]\n",
       "[1] TRUE\n",
       "\n",
       "[[7]]\n",
       "[1] FALSE\n",
       "\n",
       "[[8]]\n",
       "[1] FALSE\n"
      ]
     },
     "metadata": {},
     "output_type": "display_data"
    }
   ],
   "source": [
    "vetorDePacotes <- c(\"tidyverse\", \"data.table\", \"readxl\", \"readr\", \"xlsx\", \"lubridate\", \"skimr\", \"writexl\")\n",
    "lapply(vetorDePacotes, require, character.only = TRUE)"
   ]
  },
  {
   "cell_type": "markdown",
   "metadata": {},
   "source": [
    "# Passo 2: Carregar os dados da população brasileira\n",
    "A tabela em questão contém a estimativa da população de todos os municípios brasileiros, entre os anos de 2002 e 2020.\n",
    "\n",
    "Fonte:<\"https://sidra.ibge.gov.br/tabela/6579#resultado\">"
   ]
  },
  {
   "cell_type": "code",
   "execution_count": 2,
   "metadata": {},
   "outputs": [
    {
     "data": {
      "text/html": [
       "<table>\n",
       "<thead><tr><th scope=col>Cidades</th><th scope=col>UF</th><th scope=col>2002</th><th scope=col>2003</th><th scope=col>2004</th><th scope=col>2005</th><th scope=col>2006</th><th scope=col>2008</th><th scope=col>2009</th><th scope=col>2011</th><th scope=col>2012</th><th scope=col>2013</th><th scope=col>2014</th><th scope=col>2015</th><th scope=col>2016</th><th scope=col>2017</th><th scope=col>2018</th><th scope=col>2019</th><th scope=col>2020</th></tr></thead>\n",
       "<tbody>\n",
       "\t<tr><td>Alta Floresta D'Oeste</td><td>RO                   </td><td>27237                </td><td>27563                </td><td>29001                </td><td>28629                </td><td>29005                </td><td>24577                </td><td>24354                </td><td>24228                </td><td>24069                </td><td> 25728               </td><td> 25652               </td><td> 25578               </td><td> 25506               </td><td> 25437               </td><td> 23167               </td><td> 22945               </td><td> 22728               </td></tr>\n",
       "\t<tr><td>Ariquemes            </td><td>RO                   </td><td>78039                </td><td>79680                </td><td>86901                </td><td>85031                </td><td>86924                </td><td>84581                </td><td>85541                </td><td>91570                </td><td>92747                </td><td>101269               </td><td>102860               </td><td>104401               </td><td>105896               </td><td>107345               </td><td>106168               </td><td>107863               </td><td>109523               </td></tr>\n",
       "\t<tr><td>Cabixi               </td><td>RO                   </td><td>7490                 </td><td>7478                 </td><td>7421                 </td><td>7436                 </td><td>7421                 </td><td>6777                 </td><td>6695                 </td><td>6221                 </td><td> 6132                </td><td>  6495               </td><td>  6424               </td><td>  6355               </td><td>  6289               </td><td>  6224               </td><td>  5438               </td><td>  5312               </td><td>  5188               </td></tr>\n",
       "\t<tr><td>Cacoal               </td><td>RO                   </td><td>74381                </td><td>74758                </td><td>76417                </td><td>75988                </td><td>76422                </td><td>78263                </td><td>78675                </td><td>78959                </td><td>79330                </td><td> 85863               </td><td> 86556               </td><td> 87226               </td><td> 87877               </td><td> 88507               </td><td> 84813               </td><td> 85359               </td><td> 85893               </td></tr>\n",
       "\t<tr><td>Cerejeiras           </td><td>RO                   </td><td>17925                </td><td>17794                </td><td>17217                </td><td>17366                </td><td>17215                </td><td>16784                </td><td>16622                </td><td>16939                </td><td>16852                </td><td> 18041               </td><td> 18013               </td><td> 17986               </td><td> 17959               </td><td> 17934               </td><td> 16444               </td><td> 16323               </td><td> 16204               </td></tr>\n",
       "\t<tr><td>Colorado do Oeste    </td><td>RO                   </td><td>20881                </td><td>20412                </td><td>18349                </td><td>18883                </td><td>18342                </td><td>18216                </td><td>17822                </td><td>18338                </td><td>18093                </td><td> 19190               </td><td> 19001               </td><td> 18817               </td><td> 18639               </td><td> 18467               </td><td> 16227               </td><td> 15882               </td><td> 15544               </td></tr>\n",
       "</tbody>\n",
       "</table>\n"
      ],
      "text/latex": [
       "\\begin{tabular}{r|lllllllllllllllllll}\n",
       " Cidades & UF & 2002 & 2003 & 2004 & 2005 & 2006 & 2008 & 2009 & 2011 & 2012 & 2013 & 2014 & 2015 & 2016 & 2017 & 2018 & 2019 & 2020\\\\\n",
       "\\hline\n",
       "\t Alta Floresta D'Oeste & RO                    & 27237                 & 27563                 & 29001                 & 28629                 & 29005                 & 24577                 & 24354                 & 24228                 & 24069                 &  25728                &  25652                &  25578                &  25506                &  25437                &  23167                &  22945                &  22728               \\\\\n",
       "\t Ariquemes             & RO                    & 78039                 & 79680                 & 86901                 & 85031                 & 86924                 & 84581                 & 85541                 & 91570                 & 92747                 & 101269                & 102860                & 104401                & 105896                & 107345                & 106168                & 107863                & 109523               \\\\\n",
       "\t Cabixi                & RO                    & 7490                  & 7478                  & 7421                  & 7436                  & 7421                  & 6777                  & 6695                  & 6221                  &  6132                 &   6495                &   6424                &   6355                &   6289                &   6224                &   5438                &   5312                &   5188               \\\\\n",
       "\t Cacoal                & RO                    & 74381                 & 74758                 & 76417                 & 75988                 & 76422                 & 78263                 & 78675                 & 78959                 & 79330                 &  85863                &  86556                &  87226                &  87877                &  88507                &  84813                &  85359                &  85893               \\\\\n",
       "\t Cerejeiras            & RO                    & 17925                 & 17794                 & 17217                 & 17366                 & 17215                 & 16784                 & 16622                 & 16939                 & 16852                 &  18041                &  18013                &  17986                &  17959                &  17934                &  16444                &  16323                &  16204               \\\\\n",
       "\t Colorado do Oeste     & RO                    & 20881                 & 20412                 & 18349                 & 18883                 & 18342                 & 18216                 & 17822                 & 18338                 & 18093                 &  19190                &  19001                &  18817                &  18639                &  18467                &  16227                &  15882                &  15544               \\\\\n",
       "\\end{tabular}\n"
      ],
      "text/markdown": [
       "\n",
       "| Cidades | UF | 2002 | 2003 | 2004 | 2005 | 2006 | 2008 | 2009 | 2011 | 2012 | 2013 | 2014 | 2015 | 2016 | 2017 | 2018 | 2019 | 2020 |\n",
       "|---|---|---|---|---|---|---|---|---|---|---|---|---|---|---|---|---|---|---|\n",
       "| Alta Floresta D'Oeste | RO                    | 27237                 | 27563                 | 29001                 | 28629                 | 29005                 | 24577                 | 24354                 | 24228                 | 24069                 |  25728                |  25652                |  25578                |  25506                |  25437                |  23167                |  22945                |  22728                |\n",
       "| Ariquemes             | RO                    | 78039                 | 79680                 | 86901                 | 85031                 | 86924                 | 84581                 | 85541                 | 91570                 | 92747                 | 101269                | 102860                | 104401                | 105896                | 107345                | 106168                | 107863                | 109523                |\n",
       "| Cabixi                | RO                    | 7490                  | 7478                  | 7421                  | 7436                  | 7421                  | 6777                  | 6695                  | 6221                  |  6132                 |   6495                |   6424                |   6355                |   6289                |   6224                |   5438                |   5312                |   5188                |\n",
       "| Cacoal                | RO                    | 74381                 | 74758                 | 76417                 | 75988                 | 76422                 | 78263                 | 78675                 | 78959                 | 79330                 |  85863                |  86556                |  87226                |  87877                |  88507                |  84813                |  85359                |  85893                |\n",
       "| Cerejeiras            | RO                    | 17925                 | 17794                 | 17217                 | 17366                 | 17215                 | 16784                 | 16622                 | 16939                 | 16852                 |  18041                |  18013                |  17986                |  17959                |  17934                |  16444                |  16323                |  16204                |\n",
       "| Colorado do Oeste     | RO                    | 20881                 | 20412                 | 18349                 | 18883                 | 18342                 | 18216                 | 17822                 | 18338                 | 18093                 |  19190                |  19001                |  18817                |  18639                |  18467                |  16227                |  15882                |  15544                |\n",
       "\n"
      ],
      "text/plain": [
       "  Cidades               UF 2002  2003  2004  2005  2006  2008  2009  2011 \n",
       "1 Alta Floresta D'Oeste RO 27237 27563 29001 28629 29005 24577 24354 24228\n",
       "2 Ariquemes             RO 78039 79680 86901 85031 86924 84581 85541 91570\n",
       "3 Cabixi                RO 7490  7478  7421  7436  7421  6777  6695  6221 \n",
       "4 Cacoal                RO 74381 74758 76417 75988 76422 78263 78675 78959\n",
       "5 Cerejeiras            RO 17925 17794 17217 17366 17215 16784 16622 16939\n",
       "6 Colorado do Oeste     RO 20881 20412 18349 18883 18342 18216 17822 18338\n",
       "  2012  2013   2014   2015   2016   2017   2018   2019   2020  \n",
       "1 24069  25728  25652  25578  25506  25437  23167  22945  22728\n",
       "2 92747 101269 102860 104401 105896 107345 106168 107863 109523\n",
       "3  6132   6495   6424   6355   6289   6224   5438   5312   5188\n",
       "4 79330  85863  86556  87226  87877  88507  84813  85359  85893\n",
       "5 16852  18041  18013  17986  17959  17934  16444  16323  16204\n",
       "6 18093  19190  19001  18817  18639  18467  16227  15882  15544"
      ]
     },
     "metadata": {},
     "output_type": "display_data"
    }
   ],
   "source": [
    "populacaoBrasil <- read_excel(\"C:\\\\Database\\\\IBGE\\\\PopulacaoEstimada.xlsx\", \n",
    "                              n_max = 5570)\n",
    "# Fonte: #<\"https://sidra.ibge.gov.br/tabela/6579#resultado\">\n",
    "head(populacaoBrasil)"
   ]
  },
  {
   "cell_type": "markdown",
   "metadata": {},
   "source": [
    "# Passo 3: Importar a estimativa da população brasileira por idade\n",
    "Este passo é fundamental, pois contéma estimativa da população brasileira distribuída por idade. Estes dados serão usados para estimar os índices que serão tutilizados na estimativa das das idades da população nos municípios, dado que esta informação não se encontra disponível."
   ]
  },
  {
   "cell_type": "code",
   "execution_count": 3,
   "metadata": {},
   "outputs": [
    {
     "data": {
      "text/html": [
       "<table>\n",
       "<thead><tr><th scope=col>2010</th><th scope=col>2011</th><th scope=col>2012</th><th scope=col>2013</th><th scope=col>2014</th><th scope=col>2015</th><th scope=col>2016</th><th scope=col>2017</th><th scope=col>2018</th><th scope=col>2019</th><th scope=col>...</th><th scope=col>2051</th><th scope=col>2052</th><th scope=col>2053</th><th scope=col>2054</th><th scope=col>2055</th><th scope=col>2056</th><th scope=col>2057</th><th scope=col>2058</th><th scope=col>2059</th><th scope=col>2060</th></tr></thead>\n",
       "<tbody>\n",
       "\t<tr><td>2905886</td><td>2912714</td><td>2921808</td><td>2912978</td><td>2951596</td><td>3011378</td><td>2949233</td><td>2925966</td><td>2978233</td><td>2960946</td><td>...    </td><td>2281817</td><td>2266227</td><td>2249921</td><td>2232454</td><td>2213892</td><td>2194995</td><td>2176382</td><td>2157260</td><td>2137557</td><td>2117649</td></tr>\n",
       "\t<tr><td>2943706</td><td>2899413</td><td>2906630</td><td>2916094</td><td>2907571</td><td>2946396</td><td>3006426</td><td>2944629</td><td>2921621</td><td>2974028</td><td>...    </td><td>2295748</td><td>2280169</td><td>2264604</td><td>2248328</td><td>2230885</td><td>2212346</td><td>2193477</td><td>2174884</td><td>2155781</td><td>2136103</td></tr>\n",
       "\t<tr><td>2962187</td><td>2941136</td><td>2896967</td><td>2904257</td><td>2913780</td><td>2905337</td><td>2944202</td><td>3004309</td><td>2942668</td><td>2919723</td><td>...    </td><td>2310039</td><td>2294878</td><td>2279326</td><td>2263766</td><td>2247502</td><td>2230076</td><td>2211547</td><td>2192703</td><td>2174119</td><td>2155022</td></tr>\n",
       "\t<tr><td>2984894</td><td>2960558</td><td>2939569</td><td>2895464</td><td>2902799</td><td>2912360</td><td>2903970</td><td>2942897</td><td>3003071</td><td>2941493</td><td>...    </td><td>2323656</td><td>2309478</td><td>2294320</td><td>2278786</td><td>2263229</td><td>2246973</td><td>2229555</td><td>2211040</td><td>2192205</td><td>2173631</td></tr>\n",
       "\t<tr><td>3061607</td><td>2983612</td><td>2959327</td><td>2938377</td><td>2894324</td><td>2901688</td><td>2911281</td><td>2902975</td><td>2941964</td><td>3002142</td><td>...    </td><td>2336722</td><td>2323206</td><td>2309030</td><td>2293878</td><td>2278355</td><td>2262801</td><td>2246559</td><td>2229141</td><td>2210630</td><td>2191813</td></tr>\n",
       "\t<tr><td>3099156</td><td>3060560</td><td>2982613</td><td>2958365</td><td>2937447</td><td>2893442</td><td>2900833</td><td>2910497</td><td>2902265</td><td>2941253</td><td>...    </td><td>2350125</td><td>2336354</td><td>2322850</td><td>2308685</td><td>2293537</td><td>2278013</td><td>2262464</td><td>2246235</td><td>2228820</td><td>2210307</td></tr>\n",
       "</tbody>\n",
       "</table>\n"
      ],
      "text/latex": [
       "\\begin{tabular}{r|lllllllllllllllllllllllllllllllllllllllllllllllllll}\n",
       " 2010 & 2011 & 2012 & 2013 & 2014 & 2015 & 2016 & 2017 & 2018 & 2019 & ... & 2051 & 2052 & 2053 & 2054 & 2055 & 2056 & 2057 & 2058 & 2059 & 2060\\\\\n",
       "\\hline\n",
       "\t 2905886 & 2912714 & 2921808 & 2912978 & 2951596 & 3011378 & 2949233 & 2925966 & 2978233 & 2960946 & ...     & 2281817 & 2266227 & 2249921 & 2232454 & 2213892 & 2194995 & 2176382 & 2157260 & 2137557 & 2117649\\\\\n",
       "\t 2943706 & 2899413 & 2906630 & 2916094 & 2907571 & 2946396 & 3006426 & 2944629 & 2921621 & 2974028 & ...     & 2295748 & 2280169 & 2264604 & 2248328 & 2230885 & 2212346 & 2193477 & 2174884 & 2155781 & 2136103\\\\\n",
       "\t 2962187 & 2941136 & 2896967 & 2904257 & 2913780 & 2905337 & 2944202 & 3004309 & 2942668 & 2919723 & ...     & 2310039 & 2294878 & 2279326 & 2263766 & 2247502 & 2230076 & 2211547 & 2192703 & 2174119 & 2155022\\\\\n",
       "\t 2984894 & 2960558 & 2939569 & 2895464 & 2902799 & 2912360 & 2903970 & 2942897 & 3003071 & 2941493 & ...     & 2323656 & 2309478 & 2294320 & 2278786 & 2263229 & 2246973 & 2229555 & 2211040 & 2192205 & 2173631\\\\\n",
       "\t 3061607 & 2983612 & 2959327 & 2938377 & 2894324 & 2901688 & 2911281 & 2902975 & 2941964 & 3002142 & ...     & 2336722 & 2323206 & 2309030 & 2293878 & 2278355 & 2262801 & 2246559 & 2229141 & 2210630 & 2191813\\\\\n",
       "\t 3099156 & 3060560 & 2982613 & 2958365 & 2937447 & 2893442 & 2900833 & 2910497 & 2902265 & 2941253 & ...     & 2350125 & 2336354 & 2322850 & 2308685 & 2293537 & 2278013 & 2262464 & 2246235 & 2228820 & 2210307\\\\\n",
       "\\end{tabular}\n"
      ],
      "text/markdown": [
       "\n",
       "| 2010 | 2011 | 2012 | 2013 | 2014 | 2015 | 2016 | 2017 | 2018 | 2019 | ... | 2051 | 2052 | 2053 | 2054 | 2055 | 2056 | 2057 | 2058 | 2059 | 2060 |\n",
       "|---|---|---|---|---|---|---|---|---|---|---|---|---|---|---|---|---|---|---|---|---|\n",
       "| 2905886 | 2912714 | 2921808 | 2912978 | 2951596 | 3011378 | 2949233 | 2925966 | 2978233 | 2960946 | ...     | 2281817 | 2266227 | 2249921 | 2232454 | 2213892 | 2194995 | 2176382 | 2157260 | 2137557 | 2117649 |\n",
       "| 2943706 | 2899413 | 2906630 | 2916094 | 2907571 | 2946396 | 3006426 | 2944629 | 2921621 | 2974028 | ...     | 2295748 | 2280169 | 2264604 | 2248328 | 2230885 | 2212346 | 2193477 | 2174884 | 2155781 | 2136103 |\n",
       "| 2962187 | 2941136 | 2896967 | 2904257 | 2913780 | 2905337 | 2944202 | 3004309 | 2942668 | 2919723 | ...     | 2310039 | 2294878 | 2279326 | 2263766 | 2247502 | 2230076 | 2211547 | 2192703 | 2174119 | 2155022 |\n",
       "| 2984894 | 2960558 | 2939569 | 2895464 | 2902799 | 2912360 | 2903970 | 2942897 | 3003071 | 2941493 | ...     | 2323656 | 2309478 | 2294320 | 2278786 | 2263229 | 2246973 | 2229555 | 2211040 | 2192205 | 2173631 |\n",
       "| 3061607 | 2983612 | 2959327 | 2938377 | 2894324 | 2901688 | 2911281 | 2902975 | 2941964 | 3002142 | ...     | 2336722 | 2323206 | 2309030 | 2293878 | 2278355 | 2262801 | 2246559 | 2229141 | 2210630 | 2191813 |\n",
       "| 3099156 | 3060560 | 2982613 | 2958365 | 2937447 | 2893442 | 2900833 | 2910497 | 2902265 | 2941253 | ...     | 2350125 | 2336354 | 2322850 | 2308685 | 2293537 | 2278013 | 2262464 | 2246235 | 2228820 | 2210307 |\n",
       "\n"
      ],
      "text/plain": [
       "  2010    2011    2012    2013    2014    2015    2016    2017    2018   \n",
       "1 2905886 2912714 2921808 2912978 2951596 3011378 2949233 2925966 2978233\n",
       "2 2943706 2899413 2906630 2916094 2907571 2946396 3006426 2944629 2921621\n",
       "3 2962187 2941136 2896967 2904257 2913780 2905337 2944202 3004309 2942668\n",
       "4 2984894 2960558 2939569 2895464 2902799 2912360 2903970 2942897 3003071\n",
       "5 3061607 2983612 2959327 2938377 2894324 2901688 2911281 2902975 2941964\n",
       "6 3099156 3060560 2982613 2958365 2937447 2893442 2900833 2910497 2902265\n",
       "  2019    ... 2051    2052    2053    2054    2055    2056    2057    2058   \n",
       "1 2960946 ... 2281817 2266227 2249921 2232454 2213892 2194995 2176382 2157260\n",
       "2 2974028 ... 2295748 2280169 2264604 2248328 2230885 2212346 2193477 2174884\n",
       "3 2919723 ... 2310039 2294878 2279326 2263766 2247502 2230076 2211547 2192703\n",
       "4 2941493 ... 2323656 2309478 2294320 2278786 2263229 2246973 2229555 2211040\n",
       "5 3002142 ... 2336722 2323206 2309030 2293878 2278355 2262801 2246559 2229141\n",
       "6 2941253 ... 2350125 2336354 2322850 2308685 2293537 2278013 2262464 2246235\n",
       "  2059    2060   \n",
       "1 2137557 2117649\n",
       "2 2155781 2136103\n",
       "3 2174119 2155022\n",
       "4 2192205 2173631\n",
       "5 2210630 2191813\n",
       "6 2228820 2210307"
      ]
     },
     "metadata": {},
     "output_type": "display_data"
    }
   ],
   "source": [
    "populacaoIdade <- read_excel(\"C:\\\\Database\\\\IBGE\\\\popBRidades.xls\", \n",
    "                                       skip = 195, n_max = 92)\n",
    "idades <- populacaoIdade[1]\n",
    "populacaoIdade <- populacaoIdade[-1]\n",
    "\n",
    "head(populacaoIdade)"
   ]
  },
  {
   "cell_type": "markdown",
   "metadata": {},
   "source": [
    "# Passo 4: Calcular o indece das idades\n",
    "Este índice será usado no cálculo das idades nos municípios."
   ]
  },
  {
   "cell_type": "code",
   "execution_count": 4,
   "metadata": {},
   "outputs": [
    {
     "data": {
      "text/html": [
       "<table>\n",
       "<thead><tr><th scope=col>2010</th><th scope=col>2011</th><th scope=col>2012</th><th scope=col>2013</th><th scope=col>2014</th><th scope=col>2015</th><th scope=col>2016</th><th scope=col>2017</th><th scope=col>2018</th><th scope=col>2019</th><th scope=col>...</th><th scope=col>2051</th><th scope=col>2052</th><th scope=col>2053</th><th scope=col>2054</th><th scope=col>2055</th><th scope=col>2056</th><th scope=col>2057</th><th scope=col>2058</th><th scope=col>2059</th><th scope=col>2060</th></tr></thead>\n",
       "<tbody>\n",
       "\t<tr><td>0.01491034 </td><td>0.01481515 </td><td>0.01473317 </td><td>0.01456459 </td><td>0.01463232 </td><td>0.01479969 </td><td>0.01437552 </td><td>0.01414845 </td><td>0.01428444 </td><td>0.01408987 </td><td>...        </td><td>0.009805024</td><td>0.009749357</td><td>0.009692820</td><td>0.009633458</td><td>0.009571504</td><td>0.009510162</td><td>0.009452023</td><td>0.009393593</td><td>0.009334492</td><td>0.009276284</td></tr>\n",
       "\t<tr><td>0.01510440 </td><td>0.01474750 </td><td>0.01465664 </td><td>0.01458016 </td><td>0.01441407 </td><td>0.01448033 </td><td>0.01465430 </td><td>0.01423869 </td><td>0.01401291 </td><td>0.01415212 </td><td>...        </td><td>0.009864886</td><td>0.009809336</td><td>0.009756075</td><td>0.009701957</td><td>0.009644971</td><td>0.009585338</td><td>0.009526266</td><td>0.009470335</td><td>0.009414074</td><td>0.009357121</td></tr>\n",
       "\t<tr><td>0.01519922 </td><td>0.01495972 </td><td>0.01460791 </td><td>0.01452098 </td><td>0.01444485 </td><td>0.01427855 </td><td>0.01435100 </td><td>0.01452727 </td><td>0.01411386 </td><td>0.01389371 </td><td>...        </td><td>0.009926294</td><td>0.009872614</td><td>0.009819498</td><td>0.009768575</td><td>0.009716813</td><td>0.009662156</td><td>0.009604744</td><td>0.009547926</td><td>0.009494154</td><td>0.009439995</td></tr>\n",
       "\t<tr><td>0.01531573 </td><td>0.01505850 </td><td>0.01482273 </td><td>0.01447702 </td><td>0.01439041 </td><td>0.01431306 </td><td>0.01415490 </td><td>0.01423032 </td><td>0.01440357 </td><td>0.01399730 </td><td>...        </td><td>0.009984807</td><td>0.009935424</td><td>0.009884094</td><td>0.009833389</td><td>0.009784807</td><td>0.009735365</td><td>0.009682953</td><td>0.009627773</td><td>0.009573134</td><td>0.009521511</td></tr>\n",
       "\t<tr><td>0.01570936 </td><td>0.01517576 </td><td>0.01492236 </td><td>0.01469158 </td><td>0.01434840 </td><td>0.01426061 </td><td>0.01419053 </td><td>0.01403727 </td><td>0.01411048 </td><td>0.01428591 </td><td>...        </td><td>0.010040952</td><td>0.009994482</td><td>0.009947465</td><td>0.009898514</td><td>0.009850202</td><td>0.009803942</td><td>0.009756801</td><td>0.009706592</td><td>0.009653594</td><td>0.009601157</td></tr>\n",
       "\t<tr><td>0.01590202 </td><td>0.01556715 </td><td>0.01503978 </td><td>0.01479152 </td><td>0.01456218 </td><td>0.01422009 </td><td>0.01413960 </td><td>0.01407365 </td><td>0.01392008 </td><td>0.01399616 </td><td>...        </td><td>0.010098545</td><td>0.010051045</td><td>0.010007003</td><td>0.009962409</td><td>0.009915840</td><td>0.009869850</td><td>0.009825877</td><td>0.009781026</td><td>0.009733028</td><td>0.009682169</td></tr>\n",
       "</tbody>\n",
       "</table>\n"
      ],
      "text/latex": [
       "\\begin{tabular}{r|lllllllllllllllllllllllllllllllllllllllllllllllllll}\n",
       " 2010 & 2011 & 2012 & 2013 & 2014 & 2015 & 2016 & 2017 & 2018 & 2019 & ... & 2051 & 2052 & 2053 & 2054 & 2055 & 2056 & 2057 & 2058 & 2059 & 2060\\\\\n",
       "\\hline\n",
       "\t 0.01491034  & 0.01481515  & 0.01473317  & 0.01456459  & 0.01463232  & 0.01479969  & 0.01437552  & 0.01414845  & 0.01428444  & 0.01408987  & ...         & 0.009805024 & 0.009749357 & 0.009692820 & 0.009633458 & 0.009571504 & 0.009510162 & 0.009452023 & 0.009393593 & 0.009334492 & 0.009276284\\\\\n",
       "\t 0.01510440  & 0.01474750  & 0.01465664  & 0.01458016  & 0.01441407  & 0.01448033  & 0.01465430  & 0.01423869  & 0.01401291  & 0.01415212  & ...         & 0.009864886 & 0.009809336 & 0.009756075 & 0.009701957 & 0.009644971 & 0.009585338 & 0.009526266 & 0.009470335 & 0.009414074 & 0.009357121\\\\\n",
       "\t 0.01519922  & 0.01495972  & 0.01460791  & 0.01452098  & 0.01444485  & 0.01427855  & 0.01435100  & 0.01452727  & 0.01411386  & 0.01389371  & ...         & 0.009926294 & 0.009872614 & 0.009819498 & 0.009768575 & 0.009716813 & 0.009662156 & 0.009604744 & 0.009547926 & 0.009494154 & 0.009439995\\\\\n",
       "\t 0.01531573  & 0.01505850  & 0.01482273  & 0.01447702  & 0.01439041  & 0.01431306  & 0.01415490  & 0.01423032  & 0.01440357  & 0.01399730  & ...         & 0.009984807 & 0.009935424 & 0.009884094 & 0.009833389 & 0.009784807 & 0.009735365 & 0.009682953 & 0.009627773 & 0.009573134 & 0.009521511\\\\\n",
       "\t 0.01570936  & 0.01517576  & 0.01492236  & 0.01469158  & 0.01434840  & 0.01426061  & 0.01419053  & 0.01403727  & 0.01411048  & 0.01428591  & ...         & 0.010040952 & 0.009994482 & 0.009947465 & 0.009898514 & 0.009850202 & 0.009803942 & 0.009756801 & 0.009706592 & 0.009653594 & 0.009601157\\\\\n",
       "\t 0.01590202  & 0.01556715  & 0.01503978  & 0.01479152  & 0.01456218  & 0.01422009  & 0.01413960  & 0.01407365  & 0.01392008  & 0.01399616  & ...         & 0.010098545 & 0.010051045 & 0.010007003 & 0.009962409 & 0.009915840 & 0.009869850 & 0.009825877 & 0.009781026 & 0.009733028 & 0.009682169\\\\\n",
       "\\end{tabular}\n"
      ],
      "text/markdown": [
       "\n",
       "| 2010 | 2011 | 2012 | 2013 | 2014 | 2015 | 2016 | 2017 | 2018 | 2019 | ... | 2051 | 2052 | 2053 | 2054 | 2055 | 2056 | 2057 | 2058 | 2059 | 2060 |\n",
       "|---|---|---|---|---|---|---|---|---|---|---|---|---|---|---|---|---|---|---|---|---|\n",
       "| 0.01491034  | 0.01481515  | 0.01473317  | 0.01456459  | 0.01463232  | 0.01479969  | 0.01437552  | 0.01414845  | 0.01428444  | 0.01408987  | ...         | 0.009805024 | 0.009749357 | 0.009692820 | 0.009633458 | 0.009571504 | 0.009510162 | 0.009452023 | 0.009393593 | 0.009334492 | 0.009276284 |\n",
       "| 0.01510440  | 0.01474750  | 0.01465664  | 0.01458016  | 0.01441407  | 0.01448033  | 0.01465430  | 0.01423869  | 0.01401291  | 0.01415212  | ...         | 0.009864886 | 0.009809336 | 0.009756075 | 0.009701957 | 0.009644971 | 0.009585338 | 0.009526266 | 0.009470335 | 0.009414074 | 0.009357121 |\n",
       "| 0.01519922  | 0.01495972  | 0.01460791  | 0.01452098  | 0.01444485  | 0.01427855  | 0.01435100  | 0.01452727  | 0.01411386  | 0.01389371  | ...         | 0.009926294 | 0.009872614 | 0.009819498 | 0.009768575 | 0.009716813 | 0.009662156 | 0.009604744 | 0.009547926 | 0.009494154 | 0.009439995 |\n",
       "| 0.01531573  | 0.01505850  | 0.01482273  | 0.01447702  | 0.01439041  | 0.01431306  | 0.01415490  | 0.01423032  | 0.01440357  | 0.01399730  | ...         | 0.009984807 | 0.009935424 | 0.009884094 | 0.009833389 | 0.009784807 | 0.009735365 | 0.009682953 | 0.009627773 | 0.009573134 | 0.009521511 |\n",
       "| 0.01570936  | 0.01517576  | 0.01492236  | 0.01469158  | 0.01434840  | 0.01426061  | 0.01419053  | 0.01403727  | 0.01411048  | 0.01428591  | ...         | 0.010040952 | 0.009994482 | 0.009947465 | 0.009898514 | 0.009850202 | 0.009803942 | 0.009756801 | 0.009706592 | 0.009653594 | 0.009601157 |\n",
       "| 0.01590202  | 0.01556715  | 0.01503978  | 0.01479152  | 0.01456218  | 0.01422009  | 0.01413960  | 0.01407365  | 0.01392008  | 0.01399616  | ...         | 0.010098545 | 0.010051045 | 0.010007003 | 0.009962409 | 0.009915840 | 0.009869850 | 0.009825877 | 0.009781026 | 0.009733028 | 0.009682169 |\n",
       "\n"
      ],
      "text/plain": [
       "  2010       2011       2012       2013       2014       2015       2016      \n",
       "1 0.01491034 0.01481515 0.01473317 0.01456459 0.01463232 0.01479969 0.01437552\n",
       "2 0.01510440 0.01474750 0.01465664 0.01458016 0.01441407 0.01448033 0.01465430\n",
       "3 0.01519922 0.01495972 0.01460791 0.01452098 0.01444485 0.01427855 0.01435100\n",
       "4 0.01531573 0.01505850 0.01482273 0.01447702 0.01439041 0.01431306 0.01415490\n",
       "5 0.01570936 0.01517576 0.01492236 0.01469158 0.01434840 0.01426061 0.01419053\n",
       "6 0.01590202 0.01556715 0.01503978 0.01479152 0.01456218 0.01422009 0.01413960\n",
       "  2017       2018       2019       ... 2051        2052        2053       \n",
       "1 0.01414845 0.01428444 0.01408987 ... 0.009805024 0.009749357 0.009692820\n",
       "2 0.01423869 0.01401291 0.01415212 ... 0.009864886 0.009809336 0.009756075\n",
       "3 0.01452727 0.01411386 0.01389371 ... 0.009926294 0.009872614 0.009819498\n",
       "4 0.01423032 0.01440357 0.01399730 ... 0.009984807 0.009935424 0.009884094\n",
       "5 0.01403727 0.01411048 0.01428591 ... 0.010040952 0.009994482 0.009947465\n",
       "6 0.01407365 0.01392008 0.01399616 ... 0.010098545 0.010051045 0.010007003\n",
       "  2054        2055        2056        2057        2058        2059       \n",
       "1 0.009633458 0.009571504 0.009510162 0.009452023 0.009393593 0.009334492\n",
       "2 0.009701957 0.009644971 0.009585338 0.009526266 0.009470335 0.009414074\n",
       "3 0.009768575 0.009716813 0.009662156 0.009604744 0.009547926 0.009494154\n",
       "4 0.009833389 0.009784807 0.009735365 0.009682953 0.009627773 0.009573134\n",
       "5 0.009898514 0.009850202 0.009803942 0.009756801 0.009706592 0.009653594\n",
       "6 0.009962409 0.009915840 0.009869850 0.009825877 0.009781026 0.009733028\n",
       "  2060       \n",
       "1 0.009276284\n",
       "2 0.009357121\n",
       "3 0.009439995\n",
       "4 0.009521511\n",
       "5 0.009601157\n",
       "6 0.009682169"
      ]
     },
     "metadata": {},
     "output_type": "display_data"
    }
   ],
   "source": [
    "indices <- populacaoIdade\n",
    "for (i in 1:length(populacaoIdade)) {\n",
    "  indices[i] = populacaoIdade[,i]/apply(populacaoIdade[,i], 2, sum)\n",
    "}\n",
    "# Selecionando os indices que interessam\n",
    "indicesPNE  <- indices[5:15]\n",
    "pop1420     <- populacaoBrasil[, c(1:2, 13:19)]\n",
    "head(indices)"
   ]
  },
  {
   "cell_type": "markdown",
   "metadata": {},
   "source": [
    "# Passo 5:  Filtrando o estado e cidade"
   ]
  },
  {
   "cell_type": "code",
   "execution_count": 5,
   "metadata": {},
   "outputs": [
    {
     "data": {
      "text/html": [
       "2020301"
      ],
      "text/latex": [
       "2020301"
      ],
      "text/markdown": [
       "2020301"
      ],
      "text/plain": [
       "[1] 2020301"
      ]
     },
     "metadata": {},
     "output_type": "display_data"
    }
   ],
   "source": [
    "Estado <- \"AM\"\n",
    "Cidade <- \"Manaus\"\n",
    "Ano    <- \"2014\"\n",
    "\n",
    "popEstCid = pop1420 %>% \n",
    "      filter(UF == Estado) %>% filter(Cidades == Cidade) \n",
    "\n",
    "popCidadeAno <- popEstCid %>% select(Ano) %>% as.numeric()\n",
    "popCidadeAno"
   ]
  },
  {
   "cell_type": "markdown",
   "metadata": {},
   "source": [
    "# Passo 6: Estimar as idades / faixas-etárias "
   ]
  },
  {
   "cell_type": "code",
   "execution_count": 20,
   "metadata": {},
   "outputs": [
    {
     "data": {
      "text/html": [
       "<table>\n",
       "<thead><tr><th scope=col>Faixa_Etaria</th><th scope=col>Populacao</th><th scope=col>Prop</th></tr></thead>\n",
       "<tbody>\n",
       "\t<tr><td>Faixa 1: 0 a 3  </td><td> 116939         </td><td> 5.8            </td></tr>\n",
       "\t<tr><td>Faixa 2: 4 a 5  </td><td>  58408         </td><td> 2.9            </td></tr>\n",
       "\t<tr><td>Faixa 3: 6 a 14 </td><td> 282680         </td><td>14.0            </td></tr>\n",
       "\t<tr><td>Faixa 4: 15 a 17</td><td> 105044         </td><td> 5.2            </td></tr>\n",
       "\t<tr><td>Faixa 4: 18 anos</td><td>1457230         </td><td>72.1            </td></tr>\n",
       "</tbody>\n",
       "</table>\n"
      ],
      "text/latex": [
       "\\begin{tabular}{r|lll}\n",
       " Faixa\\_Etaria & Populacao & Prop\\\\\n",
       "\\hline\n",
       "\t Faixa 1: 0 a 3   &  116939          &  5.8            \\\\\n",
       "\t Faixa 2: 4 a 5   &   58408          &  2.9            \\\\\n",
       "\t Faixa 3: 6 a 14  &  282680          & 14.0            \\\\\n",
       "\t Faixa 4: 15 a 17 &  105044          &  5.2            \\\\\n",
       "\t Faixa 4: 18 anos & 1457230          & 72.1            \\\\\n",
       "\\end{tabular}\n"
      ],
      "text/markdown": [
       "\n",
       "| Faixa_Etaria | Populacao | Prop |\n",
       "|---|---|---|\n",
       "| Faixa 1: 0 a 3   |  116939          |  5.8             |\n",
       "| Faixa 2: 4 a 5   |   58408          |  2.9             |\n",
       "| Faixa 3: 6 a 14  |  282680          | 14.0             |\n",
       "| Faixa 4: 15 a 17 |  105044          |  5.2             |\n",
       "| Faixa 4: 18 anos | 1457230          | 72.1             |\n",
       "\n"
      ],
      "text/plain": [
       "  Faixa_Etaria     Populacao Prop\n",
       "1 Faixa 1: 0 a 3    116939    5.8\n",
       "2 Faixa 2: 4 a 5     58408    2.9\n",
       "3 Faixa 3: 6 a 14   282680   14.0\n",
       "4 Faixa 4: 15 a 17  105044    5.2\n",
       "5 Faixa 4: 18 anos 1457230   72.1"
      ]
     },
     "metadata": {},
     "output_type": "display_data"
    }
   ],
   "source": [
    "resultado <- cbind(idades,round(popCidadeAno*indicesPNE[Ano],0))\n",
    "colnames(resultado)[2] <- \"Ano2014\"\n",
    "somatt <- sum(resultado$Ano2014)  \n",
    "resultado <- resultado %>% mutate(\n",
    "          Faixa_Etaria = case_when(\n",
    "                IDADE  %in% 0:3    ~ \"Faixa 1: 0 a 3\",\n",
    "                IDADE  %in% 4:5    ~ \"Faixa 2: 4 a 5\",\n",
    "                IDADE  %in% 6:14   ~ \"Faixa 3: 6 a 14\",\n",
    "                IDADE  %in% 15:17  ~ \"Faixa 4: 15 a 17\",\n",
    "                IDADE   >   17     ~ \"Faixa 4: 18 anos\") \n",
    ")\n",
    "\n",
    "popFaixa <- resultado %>% \n",
    "            group_by(Faixa_Etaria) %>%\n",
    "            summarise(Populacao = sum(Ano2014),\n",
    "                      Prop = round((sum(Populacao)/somatt*100),1)\n",
    "                     ) \n",
    "popFaixa"
   ]
  },
  {
   "cell_type": "code",
   "execution_count": null,
   "metadata": {},
   "outputs": [],
   "source": []
  }
 ],
 "metadata": {
  "kernelspec": {
   "display_name": "R",
   "language": "R",
   "name": "ir"
  },
  "language_info": {
   "codemirror_mode": "r",
   "file_extension": ".r",
   "mimetype": "text/x-r-source",
   "name": "R",
   "pygments_lexer": "r",
   "version": "3.6.1"
  }
 },
 "nbformat": 4,
 "nbformat_minor": 4
}
