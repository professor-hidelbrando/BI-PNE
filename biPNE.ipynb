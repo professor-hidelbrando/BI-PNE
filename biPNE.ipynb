{
 "cells": [
  {
   "cell_type": "markdown",
   "metadata": {},
   "source": [
    "# Business Inteligence - Plano Nacional de Educação\n"
   ]
  },
  {
   "cell_type": "markdown",
   "metadata": {},
   "source": [
    "## Metodologia\n",
    "\n",
    "A estimativa de indicadores municipais esbarra na não existência, na maioria dos casos, de dados desagregados neste nível. Para contornar esse problema, optou-se por estimar a população das cidades pesquisadas a partir da distribuição por idade da população brasieira disponível no site do IBGE. Como o IBGE informa total da população brasileira distribuiada por idade (de 0 a 90+), calculou-se para cada idade. O IBGE informa apenas a estimativa total, ano a ano, da população dos munícípios. À estimativa da população de cada munípio, aplicou-se o índice calculado a partir da distribuição das idades da população total brasileira. \n",
    "\n",
    "Vale destar que o ideal seria, pelo menos a dsitribuição das idades a partir de dados da Região Norte, prefencialmente, do Amazonas. Mas foram localizados este dados desagregados por idade e unidade da federação. A estimativa da população dos municípios do Amazonas a partir de indicadores nacionais, certamente deve ser considerado na análise dos indicadores derivativos. Apesar do viés esperados, foi o caminho escolhido diante da ausênica de estatísticas das populações municipais, desagregadas por idade."
   ]
  },
  {
   "cell_type": "markdown",
   "metadata": {},
   "source": [
    "### Meta 1 - universalizar, até 2016, a educação infantil na pré-escola para as crianças de 4 (quatro) a 5 (cinco) anos de idade e ampliar a oferta de educação infantil em creches, de forma a atender, no mínimo, 50% (cinquenta por cento) das crianças de até 3 (três) anos até o final da vigência deste PNE.\n",
    "\n",
    "- Indicador 1 A – Percentual da população de 4 e 5 anos que frequenta a escola\n",
    "O indicador representa a proporção de crianças de 4 e 5 anos de idade que frequentam a escola em relação à população total dessa faixa etária. Esse indicador informa apenas se essa população tem acesso ou não à educação, não captando outros fatores relacionados à qualidade da oferta de ensino.\n",
    "Indicador 1B – Percentual da população de 0 a 3 anos que frequenta a escola/creche\n",
    "\n",
    "- O indicador representa a proporção de crianças de 0 a 3 anos de idade que frequentam a escola em relação à população total dessa faixa etária. Esse indicador informa apenas se essa população tem acesso ou não à educação, não captando outros fatores relacionados à qualidade da oferta de ensino.\n",
    "\n"
   ]
  },
  {
   "cell_type": "markdown",
   "metadata": {},
   "source": [
    "#### # Passo 1: Listar e carregar os pac otes que serão utilizados"
   ]
  },
  {
   "cell_type": "code",
   "execution_count": 1,
   "metadata": {},
   "outputs": [
    {
     "name": "stderr",
     "output_type": "stream",
     "text": [
      "Loading required package: tidyverse\n",
      "Registered S3 methods overwritten by 'ggplot2':\n",
      "  method         from \n",
      "  [.quosures     rlang\n",
      "  c.quosures     rlang\n",
      "  print.quosures rlang\n",
      "Registered S3 method overwritten by 'rvest':\n",
      "  method            from\n",
      "  read_xml.response xml2\n",
      "-- Attaching packages --------------------------------------- tidyverse 1.2.1 --\n",
      "v ggplot2 3.1.1       v purrr   0.3.2  \n",
      "v tibble  2.1.1       v dplyr   0.8.0.1\n",
      "v tidyr   0.8.3       v stringr 1.4.0  \n",
      "v readr   1.3.1       v forcats 0.4.0  \n",
      "-- Conflicts ------------------------------------------ tidyverse_conflicts() --\n",
      "x dplyr::filter() masks stats::filter()\n",
      "x dplyr::lag()    masks stats::lag()\n",
      "Loading required package: data.table\n",
      "\n",
      "Attaching package: 'data.table'\n",
      "\n",
      "The following objects are masked from 'package:dplyr':\n",
      "\n",
      "    between, first, last\n",
      "\n",
      "The following object is masked from 'package:purrr':\n",
      "\n",
      "    transpose\n",
      "\n",
      "Loading required package: readxl\n",
      "Loading required package: xlsx\n",
      "Warning message in library(package, lib.loc = lib.loc, character.only = TRUE, logical.return = TRUE, :\n",
      "\"there is no package called 'xlsx'\"Loading required package: lubridate\n",
      "\n",
      "Attaching package: 'lubridate'\n",
      "\n",
      "The following objects are masked from 'package:data.table':\n",
      "\n",
      "    hour, isoweek, mday, minute, month, quarter, second, wday, week,\n",
      "    yday, year\n",
      "\n",
      "The following object is masked from 'package:base':\n",
      "\n",
      "    date\n",
      "\n",
      "Loading required package: skimr\n",
      "Warning message in library(package, lib.loc = lib.loc, character.only = TRUE, logical.return = TRUE, :\n",
      "\"there is no package called 'skimr'\"Loading required package: writexl\n",
      "Warning message in library(package, lib.loc = lib.loc, character.only = TRUE, logical.return = TRUE, :\n",
      "\"there is no package called 'writexl'\""
     ]
    },
    {
     "data": {
      "text/html": [
       "<ol>\n",
       "\t<li>TRUE</li>\n",
       "\t<li>TRUE</li>\n",
       "\t<li>TRUE</li>\n",
       "\t<li>TRUE</li>\n",
       "\t<li>FALSE</li>\n",
       "\t<li>TRUE</li>\n",
       "\t<li>FALSE</li>\n",
       "\t<li>FALSE</li>\n",
       "</ol>\n"
      ],
      "text/latex": [
       "\\begin{enumerate}\n",
       "\\item TRUE\n",
       "\\item TRUE\n",
       "\\item TRUE\n",
       "\\item TRUE\n",
       "\\item FALSE\n",
       "\\item TRUE\n",
       "\\item FALSE\n",
       "\\item FALSE\n",
       "\\end{enumerate}\n"
      ],
      "text/markdown": [
       "1. TRUE\n",
       "2. TRUE\n",
       "3. TRUE\n",
       "4. TRUE\n",
       "5. FALSE\n",
       "6. TRUE\n",
       "7. FALSE\n",
       "8. FALSE\n",
       "\n",
       "\n"
      ],
      "text/plain": [
       "[[1]]\n",
       "[1] TRUE\n",
       "\n",
       "[[2]]\n",
       "[1] TRUE\n",
       "\n",
       "[[3]]\n",
       "[1] TRUE\n",
       "\n",
       "[[4]]\n",
       "[1] TRUE\n",
       "\n",
       "[[5]]\n",
       "[1] FALSE\n",
       "\n",
       "[[6]]\n",
       "[1] TRUE\n",
       "\n",
       "[[7]]\n",
       "[1] FALSE\n",
       "\n",
       "[[8]]\n",
       "[1] FALSE\n"
      ]
     },
     "metadata": {},
     "output_type": "display_data"
    }
   ],
   "source": [
    "vetorDePacotes <- c(\"tidyverse\", \"data.table\", \"readxl\", \"readr\", \"xlsx\", \"lubridate\", \"skimr\", \"writexl\")\n",
    "lapply(vetorDePacotes, require, character.only = TRUE)"
   ]
  },
  {
   "cell_type": "markdown",
   "metadata": {},
   "source": [
    "# Passo 2: Carregar os dados da população brasileira\n",
    "A tabela em questão contém a estimativa da população de todos os municípios brasileiros, entre os anos de 2002 e 2020.\n",
    "\n",
    "Fonte:<\"https://sidra.ibge.gov.br/tabela/6579#resultado\">"
   ]
  },
  {
   "cell_type": "code",
   "execution_count": 2,
   "metadata": {},
   "outputs": [
    {
     "data": {
      "text/html": [
       "<table>\n",
       "<thead><tr><th scope=col>Cidades</th><th scope=col>UF</th><th scope=col>2002</th><th scope=col>2003</th><th scope=col>2004</th><th scope=col>2005</th><th scope=col>2006</th><th scope=col>2008</th><th scope=col>2009</th><th scope=col>2011</th><th scope=col>2012</th><th scope=col>2013</th><th scope=col>2014</th><th scope=col>2015</th><th scope=col>2016</th><th scope=col>2017</th><th scope=col>2018</th><th scope=col>2019</th><th scope=col>2020</th></tr></thead>\n",
       "<tbody>\n",
       "\t<tr><td>Alta Floresta D'Oeste</td><td>RO                   </td><td>27237                </td><td>27563                </td><td>29001                </td><td>28629                </td><td>29005                </td><td>24577                </td><td>24354                </td><td>24228                </td><td>24069                </td><td> 25728               </td><td> 25652               </td><td> 25578               </td><td> 25506               </td><td> 25437               </td><td> 23167               </td><td> 22945               </td><td> 22728               </td></tr>\n",
       "\t<tr><td>Ariquemes            </td><td>RO                   </td><td>78039                </td><td>79680                </td><td>86901                </td><td>85031                </td><td>86924                </td><td>84581                </td><td>85541                </td><td>91570                </td><td>92747                </td><td>101269               </td><td>102860               </td><td>104401               </td><td>105896               </td><td>107345               </td><td>106168               </td><td>107863               </td><td>109523               </td></tr>\n",
       "\t<tr><td>Cabixi               </td><td>RO                   </td><td>7490                 </td><td>7478                 </td><td>7421                 </td><td>7436                 </td><td>7421                 </td><td>6777                 </td><td>6695                 </td><td>6221                 </td><td> 6132                </td><td>  6495               </td><td>  6424               </td><td>  6355               </td><td>  6289               </td><td>  6224               </td><td>  5438               </td><td>  5312               </td><td>  5188               </td></tr>\n",
       "\t<tr><td>Cacoal               </td><td>RO                   </td><td>74381                </td><td>74758                </td><td>76417                </td><td>75988                </td><td>76422                </td><td>78263                </td><td>78675                </td><td>78959                </td><td>79330                </td><td> 85863               </td><td> 86556               </td><td> 87226               </td><td> 87877               </td><td> 88507               </td><td> 84813               </td><td> 85359               </td><td> 85893               </td></tr>\n",
       "\t<tr><td>Cerejeiras           </td><td>RO                   </td><td>17925                </td><td>17794                </td><td>17217                </td><td>17366                </td><td>17215                </td><td>16784                </td><td>16622                </td><td>16939                </td><td>16852                </td><td> 18041               </td><td> 18013               </td><td> 17986               </td><td> 17959               </td><td> 17934               </td><td> 16444               </td><td> 16323               </td><td> 16204               </td></tr>\n",
       "\t<tr><td>Colorado do Oeste    </td><td>RO                   </td><td>20881                </td><td>20412                </td><td>18349                </td><td>18883                </td><td>18342                </td><td>18216                </td><td>17822                </td><td>18338                </td><td>18093                </td><td> 19190               </td><td> 19001               </td><td> 18817               </td><td> 18639               </td><td> 18467               </td><td> 16227               </td><td> 15882               </td><td> 15544               </td></tr>\n",
       "</tbody>\n",
       "</table>\n"
      ],
      "text/latex": [
       "\\begin{tabular}{r|lllllllllllllllllll}\n",
       " Cidades & UF & 2002 & 2003 & 2004 & 2005 & 2006 & 2008 & 2009 & 2011 & 2012 & 2013 & 2014 & 2015 & 2016 & 2017 & 2018 & 2019 & 2020\\\\\n",
       "\\hline\n",
       "\t Alta Floresta D'Oeste & RO                    & 27237                 & 27563                 & 29001                 & 28629                 & 29005                 & 24577                 & 24354                 & 24228                 & 24069                 &  25728                &  25652                &  25578                &  25506                &  25437                &  23167                &  22945                &  22728               \\\\\n",
       "\t Ariquemes             & RO                    & 78039                 & 79680                 & 86901                 & 85031                 & 86924                 & 84581                 & 85541                 & 91570                 & 92747                 & 101269                & 102860                & 104401                & 105896                & 107345                & 106168                & 107863                & 109523               \\\\\n",
       "\t Cabixi                & RO                    & 7490                  & 7478                  & 7421                  & 7436                  & 7421                  & 6777                  & 6695                  & 6221                  &  6132                 &   6495                &   6424                &   6355                &   6289                &   6224                &   5438                &   5312                &   5188               \\\\\n",
       "\t Cacoal                & RO                    & 74381                 & 74758                 & 76417                 & 75988                 & 76422                 & 78263                 & 78675                 & 78959                 & 79330                 &  85863                &  86556                &  87226                &  87877                &  88507                &  84813                &  85359                &  85893               \\\\\n",
       "\t Cerejeiras            & RO                    & 17925                 & 17794                 & 17217                 & 17366                 & 17215                 & 16784                 & 16622                 & 16939                 & 16852                 &  18041                &  18013                &  17986                &  17959                &  17934                &  16444                &  16323                &  16204               \\\\\n",
       "\t Colorado do Oeste     & RO                    & 20881                 & 20412                 & 18349                 & 18883                 & 18342                 & 18216                 & 17822                 & 18338                 & 18093                 &  19190                &  19001                &  18817                &  18639                &  18467                &  16227                &  15882                &  15544               \\\\\n",
       "\\end{tabular}\n"
      ],
      "text/markdown": [
       "\n",
       "| Cidades | UF | 2002 | 2003 | 2004 | 2005 | 2006 | 2008 | 2009 | 2011 | 2012 | 2013 | 2014 | 2015 | 2016 | 2017 | 2018 | 2019 | 2020 |\n",
       "|---|---|---|---|---|---|---|---|---|---|---|---|---|---|---|---|---|---|---|\n",
       "| Alta Floresta D'Oeste | RO                    | 27237                 | 27563                 | 29001                 | 28629                 | 29005                 | 24577                 | 24354                 | 24228                 | 24069                 |  25728                |  25652                |  25578                |  25506                |  25437                |  23167                |  22945                |  22728                |\n",
       "| Ariquemes             | RO                    | 78039                 | 79680                 | 86901                 | 85031                 | 86924                 | 84581                 | 85541                 | 91570                 | 92747                 | 101269                | 102860                | 104401                | 105896                | 107345                | 106168                | 107863                | 109523                |\n",
       "| Cabixi                | RO                    | 7490                  | 7478                  | 7421                  | 7436                  | 7421                  | 6777                  | 6695                  | 6221                  |  6132                 |   6495                |   6424                |   6355                |   6289                |   6224                |   5438                |   5312                |   5188                |\n",
       "| Cacoal                | RO                    | 74381                 | 74758                 | 76417                 | 75988                 | 76422                 | 78263                 | 78675                 | 78959                 | 79330                 |  85863                |  86556                |  87226                |  87877                |  88507                |  84813                |  85359                |  85893                |\n",
       "| Cerejeiras            | RO                    | 17925                 | 17794                 | 17217                 | 17366                 | 17215                 | 16784                 | 16622                 | 16939                 | 16852                 |  18041                |  18013                |  17986                |  17959                |  17934                |  16444                |  16323                |  16204                |\n",
       "| Colorado do Oeste     | RO                    | 20881                 | 20412                 | 18349                 | 18883                 | 18342                 | 18216                 | 17822                 | 18338                 | 18093                 |  19190                |  19001                |  18817                |  18639                |  18467                |  16227                |  15882                |  15544                |\n",
       "\n"
      ],
      "text/plain": [
       "  Cidades               UF 2002  2003  2004  2005  2006  2008  2009  2011 \n",
       "1 Alta Floresta D'Oeste RO 27237 27563 29001 28629 29005 24577 24354 24228\n",
       "2 Ariquemes             RO 78039 79680 86901 85031 86924 84581 85541 91570\n",
       "3 Cabixi                RO 7490  7478  7421  7436  7421  6777  6695  6221 \n",
       "4 Cacoal                RO 74381 74758 76417 75988 76422 78263 78675 78959\n",
       "5 Cerejeiras            RO 17925 17794 17217 17366 17215 16784 16622 16939\n",
       "6 Colorado do Oeste     RO 20881 20412 18349 18883 18342 18216 17822 18338\n",
       "  2012  2013   2014   2015   2016   2017   2018   2019   2020  \n",
       "1 24069  25728  25652  25578  25506  25437  23167  22945  22728\n",
       "2 92747 101269 102860 104401 105896 107345 106168 107863 109523\n",
       "3  6132   6495   6424   6355   6289   6224   5438   5312   5188\n",
       "4 79330  85863  86556  87226  87877  88507  84813  85359  85893\n",
       "5 16852  18041  18013  17986  17959  17934  16444  16323  16204\n",
       "6 18093  19190  19001  18817  18639  18467  16227  15882  15544"
      ]
     },
     "metadata": {},
     "output_type": "display_data"
    }
   ],
   "source": [
    "populacaoBrasil <- read_excel(\"C:\\\\Database\\\\IBGE\\\\PopulacaoEstimada.xlsx\", \n",
    "                              n_max = 5570)\n",
    "# Fonte: #<\"https://sidra.ibge.gov.br/tabela/6579#resultado\">\n",
    "head(populacaoBrasil)"
   ]
  },
  {
   "cell_type": "markdown",
   "metadata": {},
   "source": [
    "# Passo 3: Importar a estimativa da população brasileira por idade\n",
    "Este passo é fundamental, pois contéma estimativa da população brasileira distribuída por idade. Estes dados serão usados para estimar os índices que serão tutilizados na estimativa das das idades da população nos municípios, dado que esta informação não se encontra disponível."
   ]
  },
  {
   "cell_type": "code",
   "execution_count": 3,
   "metadata": {},
   "outputs": [
    {
     "data": {
      "text/html": [
       "<table>\n",
       "<thead><tr><th scope=col>IDADE</th><th scope=col>2010</th><th scope=col>2011</th><th scope=col>2012</th><th scope=col>2013</th><th scope=col>2014</th><th scope=col>2015</th><th scope=col>2016</th><th scope=col>2017</th><th scope=col>2018</th><th scope=col>...</th><th scope=col>2051</th><th scope=col>2052</th><th scope=col>2053</th><th scope=col>2054</th><th scope=col>2055</th><th scope=col>2056</th><th scope=col>2057</th><th scope=col>2058</th><th scope=col>2059</th><th scope=col>2060</th></tr></thead>\n",
       "<tbody>\n",
       "\t<tr><td>0      </td><td>2905886</td><td>2912714</td><td>2921808</td><td>2912978</td><td>2951596</td><td>3011378</td><td>2949233</td><td>2925966</td><td>2978233</td><td>...    </td><td>2281817</td><td>2266227</td><td>2249921</td><td>2232454</td><td>2213892</td><td>2194995</td><td>2176382</td><td>2157260</td><td>2137557</td><td>2117649</td></tr>\n",
       "\t<tr><td>1      </td><td>2943706</td><td>2899413</td><td>2906630</td><td>2916094</td><td>2907571</td><td>2946396</td><td>3006426</td><td>2944629</td><td>2921621</td><td>...    </td><td>2295748</td><td>2280169</td><td>2264604</td><td>2248328</td><td>2230885</td><td>2212346</td><td>2193477</td><td>2174884</td><td>2155781</td><td>2136103</td></tr>\n",
       "\t<tr><td>2      </td><td>2962187</td><td>2941136</td><td>2896967</td><td>2904257</td><td>2913780</td><td>2905337</td><td>2944202</td><td>3004309</td><td>2942668</td><td>...    </td><td>2310039</td><td>2294878</td><td>2279326</td><td>2263766</td><td>2247502</td><td>2230076</td><td>2211547</td><td>2192703</td><td>2174119</td><td>2155022</td></tr>\n",
       "\t<tr><td>3      </td><td>2984894</td><td>2960558</td><td>2939569</td><td>2895464</td><td>2902799</td><td>2912360</td><td>2903970</td><td>2942897</td><td>3003071</td><td>...    </td><td>2323656</td><td>2309478</td><td>2294320</td><td>2278786</td><td>2263229</td><td>2246973</td><td>2229555</td><td>2211040</td><td>2192205</td><td>2173631</td></tr>\n",
       "\t<tr><td>4      </td><td>3061607</td><td>2983612</td><td>2959327</td><td>2938377</td><td>2894324</td><td>2901688</td><td>2911281</td><td>2902975</td><td>2941964</td><td>...    </td><td>2336722</td><td>2323206</td><td>2309030</td><td>2293878</td><td>2278355</td><td>2262801</td><td>2246559</td><td>2229141</td><td>2210630</td><td>2191813</td></tr>\n",
       "\t<tr><td>5      </td><td>3099156</td><td>3060560</td><td>2982613</td><td>2958365</td><td>2937447</td><td>2893442</td><td>2900833</td><td>2910497</td><td>2902265</td><td>...    </td><td>2350125</td><td>2336354</td><td>2322850</td><td>2308685</td><td>2293537</td><td>2278013</td><td>2262464</td><td>2246235</td><td>2228820</td><td>2210307</td></tr>\n",
       "</tbody>\n",
       "</table>\n"
      ],
      "text/latex": [
       "\\begin{tabular}{r|llllllllllllllllllllllllllllllllllllllllllllllllllll}\n",
       " IDADE & 2010 & 2011 & 2012 & 2013 & 2014 & 2015 & 2016 & 2017 & 2018 & ... & 2051 & 2052 & 2053 & 2054 & 2055 & 2056 & 2057 & 2058 & 2059 & 2060\\\\\n",
       "\\hline\n",
       "\t 0       & 2905886 & 2912714 & 2921808 & 2912978 & 2951596 & 3011378 & 2949233 & 2925966 & 2978233 & ...     & 2281817 & 2266227 & 2249921 & 2232454 & 2213892 & 2194995 & 2176382 & 2157260 & 2137557 & 2117649\\\\\n",
       "\t 1       & 2943706 & 2899413 & 2906630 & 2916094 & 2907571 & 2946396 & 3006426 & 2944629 & 2921621 & ...     & 2295748 & 2280169 & 2264604 & 2248328 & 2230885 & 2212346 & 2193477 & 2174884 & 2155781 & 2136103\\\\\n",
       "\t 2       & 2962187 & 2941136 & 2896967 & 2904257 & 2913780 & 2905337 & 2944202 & 3004309 & 2942668 & ...     & 2310039 & 2294878 & 2279326 & 2263766 & 2247502 & 2230076 & 2211547 & 2192703 & 2174119 & 2155022\\\\\n",
       "\t 3       & 2984894 & 2960558 & 2939569 & 2895464 & 2902799 & 2912360 & 2903970 & 2942897 & 3003071 & ...     & 2323656 & 2309478 & 2294320 & 2278786 & 2263229 & 2246973 & 2229555 & 2211040 & 2192205 & 2173631\\\\\n",
       "\t 4       & 3061607 & 2983612 & 2959327 & 2938377 & 2894324 & 2901688 & 2911281 & 2902975 & 2941964 & ...     & 2336722 & 2323206 & 2309030 & 2293878 & 2278355 & 2262801 & 2246559 & 2229141 & 2210630 & 2191813\\\\\n",
       "\t 5       & 3099156 & 3060560 & 2982613 & 2958365 & 2937447 & 2893442 & 2900833 & 2910497 & 2902265 & ...     & 2350125 & 2336354 & 2322850 & 2308685 & 2293537 & 2278013 & 2262464 & 2246235 & 2228820 & 2210307\\\\\n",
       "\\end{tabular}\n"
      ],
      "text/markdown": [
       "\n",
       "| IDADE | 2010 | 2011 | 2012 | 2013 | 2014 | 2015 | 2016 | 2017 | 2018 | ... | 2051 | 2052 | 2053 | 2054 | 2055 | 2056 | 2057 | 2058 | 2059 | 2060 |\n",
       "|---|---|---|---|---|---|---|---|---|---|---|---|---|---|---|---|---|---|---|---|---|\n",
       "| 0       | 2905886 | 2912714 | 2921808 | 2912978 | 2951596 | 3011378 | 2949233 | 2925966 | 2978233 | ...     | 2281817 | 2266227 | 2249921 | 2232454 | 2213892 | 2194995 | 2176382 | 2157260 | 2137557 | 2117649 |\n",
       "| 1       | 2943706 | 2899413 | 2906630 | 2916094 | 2907571 | 2946396 | 3006426 | 2944629 | 2921621 | ...     | 2295748 | 2280169 | 2264604 | 2248328 | 2230885 | 2212346 | 2193477 | 2174884 | 2155781 | 2136103 |\n",
       "| 2       | 2962187 | 2941136 | 2896967 | 2904257 | 2913780 | 2905337 | 2944202 | 3004309 | 2942668 | ...     | 2310039 | 2294878 | 2279326 | 2263766 | 2247502 | 2230076 | 2211547 | 2192703 | 2174119 | 2155022 |\n",
       "| 3       | 2984894 | 2960558 | 2939569 | 2895464 | 2902799 | 2912360 | 2903970 | 2942897 | 3003071 | ...     | 2323656 | 2309478 | 2294320 | 2278786 | 2263229 | 2246973 | 2229555 | 2211040 | 2192205 | 2173631 |\n",
       "| 4       | 3061607 | 2983612 | 2959327 | 2938377 | 2894324 | 2901688 | 2911281 | 2902975 | 2941964 | ...     | 2336722 | 2323206 | 2309030 | 2293878 | 2278355 | 2262801 | 2246559 | 2229141 | 2210630 | 2191813 |\n",
       "| 5       | 3099156 | 3060560 | 2982613 | 2958365 | 2937447 | 2893442 | 2900833 | 2910497 | 2902265 | ...     | 2350125 | 2336354 | 2322850 | 2308685 | 2293537 | 2278013 | 2262464 | 2246235 | 2228820 | 2210307 |\n",
       "\n"
      ],
      "text/plain": [
       "  IDADE 2010    2011    2012    2013    2014    2015    2016    2017    2018   \n",
       "1 0     2905886 2912714 2921808 2912978 2951596 3011378 2949233 2925966 2978233\n",
       "2 1     2943706 2899413 2906630 2916094 2907571 2946396 3006426 2944629 2921621\n",
       "3 2     2962187 2941136 2896967 2904257 2913780 2905337 2944202 3004309 2942668\n",
       "4 3     2984894 2960558 2939569 2895464 2902799 2912360 2903970 2942897 3003071\n",
       "5 4     3061607 2983612 2959327 2938377 2894324 2901688 2911281 2902975 2941964\n",
       "6 5     3099156 3060560 2982613 2958365 2937447 2893442 2900833 2910497 2902265\n",
       "  ... 2051    2052    2053    2054    2055    2056    2057    2058    2059   \n",
       "1 ... 2281817 2266227 2249921 2232454 2213892 2194995 2176382 2157260 2137557\n",
       "2 ... 2295748 2280169 2264604 2248328 2230885 2212346 2193477 2174884 2155781\n",
       "3 ... 2310039 2294878 2279326 2263766 2247502 2230076 2211547 2192703 2174119\n",
       "4 ... 2323656 2309478 2294320 2278786 2263229 2246973 2229555 2211040 2192205\n",
       "5 ... 2336722 2323206 2309030 2293878 2278355 2262801 2246559 2229141 2210630\n",
       "6 ... 2350125 2336354 2322850 2308685 2293537 2278013 2262464 2246235 2228820\n",
       "  2060   \n",
       "1 2117649\n",
       "2 2136103\n",
       "3 2155022\n",
       "4 2173631\n",
       "5 2191813\n",
       "6 2210307"
      ]
     },
     "metadata": {},
     "output_type": "display_data"
    },
    {
     "data": {
      "text/html": [
       "<table>\n",
       "<thead><tr><th scope=col>IDADE</th><th scope=col>2010</th><th scope=col>2011</th><th scope=col>2012</th><th scope=col>2013</th><th scope=col>2014</th><th scope=col>2015</th><th scope=col>2016</th><th scope=col>2017</th><th scope=col>2018</th><th scope=col>...</th><th scope=col>2051</th><th scope=col>2052</th><th scope=col>2053</th><th scope=col>2054</th><th scope=col>2055</th><th scope=col>2056</th><th scope=col>2057</th><th scope=col>2058</th><th scope=col>2059</th><th scope=col>2060</th></tr></thead>\n",
       "<tbody>\n",
       "\t<tr><td>85     </td><td>237382 </td><td>245956 </td><td>256180 </td><td>264003 </td><td>270027 </td><td>274729 </td><td>281933 </td><td>291334 </td><td>302401 </td><td>...    </td><td>1132011</td><td>1155383</td><td>1175380</td><td>1190829</td><td>1203840</td><td>1217503</td><td>1229992</td><td>1250818</td><td>1284888</td><td>1327292</td></tr>\n",
       "\t<tr><td>86     </td><td>203046 </td><td>210601 </td><td>218692 </td><td>228264 </td><td>235700 </td><td>241536 </td><td>246190 </td><td>253080 </td><td>261946 </td><td>...    </td><td>1022914</td><td>1043662</td><td>1065423</td><td>1084070</td><td>1098548</td><td>1110790</td><td>1123615</td><td>1135355</td><td>1154778</td><td>1186413</td></tr>\n",
       "\t<tr><td>87     </td><td>167595 </td><td>180146 </td><td>187264 </td><td>194870 </td><td>203807 </td><td>210847 </td><td>216464 </td><td>221019 </td><td>227578 </td><td>...    </td><td> 924650</td><td> 943405</td><td> 962729</td><td> 982985</td><td>1000372</td><td>1013932</td><td>1025441</td><td>1037470</td><td>1048493</td><td>1066608</td></tr>\n",
       "\t<tr><td>88     </td><td>130657 </td><td>148707 </td><td>160189 </td><td>166873 </td><td>174006 </td><td>182339 </td><td>188983 </td><td>194355 </td><td>198776 </td><td>...    </td><td> 832973</td><td> 853068</td><td> 870548</td><td> 888545</td><td> 907393</td><td> 923605</td><td> 936303</td><td> 947113</td><td> 958382</td><td> 968732</td></tr>\n",
       "\t<tr><td>89     </td><td> 91849 </td><td>115950 </td><td>132245 </td><td>142753 </td><td>149014 </td><td>155697 </td><td>163447 </td><td>169701 </td><td>174816 </td><td>...    </td><td> 746827</td><td> 768736</td><td> 787448</td><td> 803738</td><td> 820498</td><td> 838037</td><td> 853148</td><td> 865024</td><td> 875181</td><td> 885733</td></tr>\n",
       "\t<tr><td>90+    </td><td>455191 </td><td>459166 </td><td>484603 </td><td>521252 </td><td>562349 </td><td>603580 </td><td>645377 </td><td>688657 </td><td>731945 </td><td>...    </td><td>3794831</td><td>3953061</td><td>4110366</td><td>4263976</td><td>4412193</td><td>4556131</td><td>4697023</td><td>4833076</td><td>4962058</td><td>5083408</td></tr>\n",
       "</tbody>\n",
       "</table>\n"
      ],
      "text/latex": [
       "\\begin{tabular}{r|llllllllllllllllllllllllllllllllllllllllllllllllllll}\n",
       " IDADE & 2010 & 2011 & 2012 & 2013 & 2014 & 2015 & 2016 & 2017 & 2018 & ... & 2051 & 2052 & 2053 & 2054 & 2055 & 2056 & 2057 & 2058 & 2059 & 2060\\\\\n",
       "\\hline\n",
       "\t 85      & 237382  & 245956  & 256180  & 264003  & 270027  & 274729  & 281933  & 291334  & 302401  & ...     & 1132011 & 1155383 & 1175380 & 1190829 & 1203840 & 1217503 & 1229992 & 1250818 & 1284888 & 1327292\\\\\n",
       "\t 86      & 203046  & 210601  & 218692  & 228264  & 235700  & 241536  & 246190  & 253080  & 261946  & ...     & 1022914 & 1043662 & 1065423 & 1084070 & 1098548 & 1110790 & 1123615 & 1135355 & 1154778 & 1186413\\\\\n",
       "\t 87      & 167595  & 180146  & 187264  & 194870  & 203807  & 210847  & 216464  & 221019  & 227578  & ...     &  924650 &  943405 &  962729 &  982985 & 1000372 & 1013932 & 1025441 & 1037470 & 1048493 & 1066608\\\\\n",
       "\t 88      & 130657  & 148707  & 160189  & 166873  & 174006  & 182339  & 188983  & 194355  & 198776  & ...     &  832973 &  853068 &  870548 &  888545 &  907393 &  923605 &  936303 &  947113 &  958382 &  968732\\\\\n",
       "\t 89      &  91849  & 115950  & 132245  & 142753  & 149014  & 155697  & 163447  & 169701  & 174816  & ...     &  746827 &  768736 &  787448 &  803738 &  820498 &  838037 &  853148 &  865024 &  875181 &  885733\\\\\n",
       "\t 90+     & 455191  & 459166  & 484603  & 521252  & 562349  & 603580  & 645377  & 688657  & 731945  & ...     & 3794831 & 3953061 & 4110366 & 4263976 & 4412193 & 4556131 & 4697023 & 4833076 & 4962058 & 5083408\\\\\n",
       "\\end{tabular}\n"
      ],
      "text/markdown": [
       "\n",
       "| IDADE | 2010 | 2011 | 2012 | 2013 | 2014 | 2015 | 2016 | 2017 | 2018 | ... | 2051 | 2052 | 2053 | 2054 | 2055 | 2056 | 2057 | 2058 | 2059 | 2060 |\n",
       "|---|---|---|---|---|---|---|---|---|---|---|---|---|---|---|---|---|---|---|---|---|\n",
       "| 85      | 237382  | 245956  | 256180  | 264003  | 270027  | 274729  | 281933  | 291334  | 302401  | ...     | 1132011 | 1155383 | 1175380 | 1190829 | 1203840 | 1217503 | 1229992 | 1250818 | 1284888 | 1327292 |\n",
       "| 86      | 203046  | 210601  | 218692  | 228264  | 235700  | 241536  | 246190  | 253080  | 261946  | ...     | 1022914 | 1043662 | 1065423 | 1084070 | 1098548 | 1110790 | 1123615 | 1135355 | 1154778 | 1186413 |\n",
       "| 87      | 167595  | 180146  | 187264  | 194870  | 203807  | 210847  | 216464  | 221019  | 227578  | ...     |  924650 |  943405 |  962729 |  982985 | 1000372 | 1013932 | 1025441 | 1037470 | 1048493 | 1066608 |\n",
       "| 88      | 130657  | 148707  | 160189  | 166873  | 174006  | 182339  | 188983  | 194355  | 198776  | ...     |  832973 |  853068 |  870548 |  888545 |  907393 |  923605 |  936303 |  947113 |  958382 |  968732 |\n",
       "| 89      |  91849  | 115950  | 132245  | 142753  | 149014  | 155697  | 163447  | 169701  | 174816  | ...     |  746827 |  768736 |  787448 |  803738 |  820498 |  838037 |  853148 |  865024 |  875181 |  885733 |\n",
       "| 90+     | 455191  | 459166  | 484603  | 521252  | 562349  | 603580  | 645377  | 688657  | 731945  | ...     | 3794831 | 3953061 | 4110366 | 4263976 | 4412193 | 4556131 | 4697023 | 4833076 | 4962058 | 5083408 |\n",
       "\n"
      ],
      "text/plain": [
       "  IDADE 2010   2011   2012   2013   2014   2015   2016   2017   2018   ...\n",
       "1 85    237382 245956 256180 264003 270027 274729 281933 291334 302401 ...\n",
       "2 86    203046 210601 218692 228264 235700 241536 246190 253080 261946 ...\n",
       "3 87    167595 180146 187264 194870 203807 210847 216464 221019 227578 ...\n",
       "4 88    130657 148707 160189 166873 174006 182339 188983 194355 198776 ...\n",
       "5 89     91849 115950 132245 142753 149014 155697 163447 169701 174816 ...\n",
       "6 90+   455191 459166 484603 521252 562349 603580 645377 688657 731945 ...\n",
       "  2051    2052    2053    2054    2055    2056    2057    2058    2059   \n",
       "1 1132011 1155383 1175380 1190829 1203840 1217503 1229992 1250818 1284888\n",
       "2 1022914 1043662 1065423 1084070 1098548 1110790 1123615 1135355 1154778\n",
       "3  924650  943405  962729  982985 1000372 1013932 1025441 1037470 1048493\n",
       "4  832973  853068  870548  888545  907393  923605  936303  947113  958382\n",
       "5  746827  768736  787448  803738  820498  838037  853148  865024  875181\n",
       "6 3794831 3953061 4110366 4263976 4412193 4556131 4697023 4833076 4962058\n",
       "  2060   \n",
       "1 1327292\n",
       "2 1186413\n",
       "3 1066608\n",
       "4  968732\n",
       "5  885733\n",
       "6 5083408"
      ]
     },
     "metadata": {},
     "output_type": "display_data"
    }
   ],
   "source": [
    "populacaoIdade <- read_excel(\"C:\\\\Database\\\\IBGE\\\\popBRidades.xls\", skip = 195, n_max = 92)\n",
    "head(populacaoIdade)\n",
    "tail(populacaoIdade)\n",
    "idades <- populacaoIdade[1]\n",
    "populacaoIdade <- populacaoIdade[-1]"
   ]
  },
  {
   "cell_type": "markdown",
   "metadata": {},
   "source": [
    "# Passo 4: Calcular o indece das idades\n",
    "Este índice será usado no cálculo das idades nos municípios."
   ]
  },
  {
   "cell_type": "code",
   "execution_count": 4,
   "metadata": {},
   "outputs": [
    {
     "data": {
      "text/html": [
       "<table>\n",
       "<thead><tr><th scope=col>2010</th><th scope=col>2011</th><th scope=col>2012</th><th scope=col>2013</th><th scope=col>2014</th><th scope=col>2015</th><th scope=col>2016</th><th scope=col>2017</th><th scope=col>2018</th><th scope=col>2019</th><th scope=col>...</th><th scope=col>2051</th><th scope=col>2052</th><th scope=col>2053</th><th scope=col>2054</th><th scope=col>2055</th><th scope=col>2056</th><th scope=col>2057</th><th scope=col>2058</th><th scope=col>2059</th><th scope=col>2060</th></tr></thead>\n",
       "<tbody>\n",
       "\t<tr><td>0.01491034 </td><td>0.01481515 </td><td>0.01473317 </td><td>0.01456459 </td><td>0.01463232 </td><td>0.01479969 </td><td>0.01437552 </td><td>0.01414845 </td><td>0.01428444 </td><td>0.01408987 </td><td>...        </td><td>0.009805024</td><td>0.009749357</td><td>0.009692820</td><td>0.009633458</td><td>0.009571504</td><td>0.009510162</td><td>0.009452023</td><td>0.009393593</td><td>0.009334492</td><td>0.009276284</td></tr>\n",
       "\t<tr><td>0.01510440 </td><td>0.01474750 </td><td>0.01465664 </td><td>0.01458016 </td><td>0.01441407 </td><td>0.01448033 </td><td>0.01465430 </td><td>0.01423869 </td><td>0.01401291 </td><td>0.01415212 </td><td>...        </td><td>0.009864886</td><td>0.009809336</td><td>0.009756075</td><td>0.009701957</td><td>0.009644971</td><td>0.009585338</td><td>0.009526266</td><td>0.009470335</td><td>0.009414074</td><td>0.009357121</td></tr>\n",
       "\t<tr><td>0.01519922 </td><td>0.01495972 </td><td>0.01460791 </td><td>0.01452098 </td><td>0.01444485 </td><td>0.01427855 </td><td>0.01435100 </td><td>0.01452727 </td><td>0.01411386 </td><td>0.01389371 </td><td>...        </td><td>0.009926294</td><td>0.009872614</td><td>0.009819498</td><td>0.009768575</td><td>0.009716813</td><td>0.009662156</td><td>0.009604744</td><td>0.009547926</td><td>0.009494154</td><td>0.009439995</td></tr>\n",
       "\t<tr><td>0.01531573 </td><td>0.01505850 </td><td>0.01482273 </td><td>0.01447702 </td><td>0.01439041 </td><td>0.01431306 </td><td>0.01415490 </td><td>0.01423032 </td><td>0.01440357 </td><td>0.01399730 </td><td>...        </td><td>0.009984807</td><td>0.009935424</td><td>0.009884094</td><td>0.009833389</td><td>0.009784807</td><td>0.009735365</td><td>0.009682953</td><td>0.009627773</td><td>0.009573134</td><td>0.009521511</td></tr>\n",
       "\t<tr><td>0.01570936 </td><td>0.01517576 </td><td>0.01492236 </td><td>0.01469158 </td><td>0.01434840 </td><td>0.01426061 </td><td>0.01419053 </td><td>0.01403727 </td><td>0.01411048 </td><td>0.01428591 </td><td>...        </td><td>0.010040952</td><td>0.009994482</td><td>0.009947465</td><td>0.009898514</td><td>0.009850202</td><td>0.009803942</td><td>0.009756801</td><td>0.009706592</td><td>0.009653594</td><td>0.009601157</td></tr>\n",
       "\t<tr><td>0.01590202 </td><td>0.01556715 </td><td>0.01503978 </td><td>0.01479152 </td><td>0.01456218 </td><td>0.01422009 </td><td>0.01413960 </td><td>0.01407365 </td><td>0.01392008 </td><td>0.01399616 </td><td>...        </td><td>0.010098545</td><td>0.010051045</td><td>0.010007003</td><td>0.009962409</td><td>0.009915840</td><td>0.009869850</td><td>0.009825877</td><td>0.009781026</td><td>0.009733028</td><td>0.009682169</td></tr>\n",
       "</tbody>\n",
       "</table>\n"
      ],
      "text/latex": [
       "\\begin{tabular}{r|lllllllllllllllllllllllllllllllllllllllllllllllllll}\n",
       " 2010 & 2011 & 2012 & 2013 & 2014 & 2015 & 2016 & 2017 & 2018 & 2019 & ... & 2051 & 2052 & 2053 & 2054 & 2055 & 2056 & 2057 & 2058 & 2059 & 2060\\\\\n",
       "\\hline\n",
       "\t 0.01491034  & 0.01481515  & 0.01473317  & 0.01456459  & 0.01463232  & 0.01479969  & 0.01437552  & 0.01414845  & 0.01428444  & 0.01408987  & ...         & 0.009805024 & 0.009749357 & 0.009692820 & 0.009633458 & 0.009571504 & 0.009510162 & 0.009452023 & 0.009393593 & 0.009334492 & 0.009276284\\\\\n",
       "\t 0.01510440  & 0.01474750  & 0.01465664  & 0.01458016  & 0.01441407  & 0.01448033  & 0.01465430  & 0.01423869  & 0.01401291  & 0.01415212  & ...         & 0.009864886 & 0.009809336 & 0.009756075 & 0.009701957 & 0.009644971 & 0.009585338 & 0.009526266 & 0.009470335 & 0.009414074 & 0.009357121\\\\\n",
       "\t 0.01519922  & 0.01495972  & 0.01460791  & 0.01452098  & 0.01444485  & 0.01427855  & 0.01435100  & 0.01452727  & 0.01411386  & 0.01389371  & ...         & 0.009926294 & 0.009872614 & 0.009819498 & 0.009768575 & 0.009716813 & 0.009662156 & 0.009604744 & 0.009547926 & 0.009494154 & 0.009439995\\\\\n",
       "\t 0.01531573  & 0.01505850  & 0.01482273  & 0.01447702  & 0.01439041  & 0.01431306  & 0.01415490  & 0.01423032  & 0.01440357  & 0.01399730  & ...         & 0.009984807 & 0.009935424 & 0.009884094 & 0.009833389 & 0.009784807 & 0.009735365 & 0.009682953 & 0.009627773 & 0.009573134 & 0.009521511\\\\\n",
       "\t 0.01570936  & 0.01517576  & 0.01492236  & 0.01469158  & 0.01434840  & 0.01426061  & 0.01419053  & 0.01403727  & 0.01411048  & 0.01428591  & ...         & 0.010040952 & 0.009994482 & 0.009947465 & 0.009898514 & 0.009850202 & 0.009803942 & 0.009756801 & 0.009706592 & 0.009653594 & 0.009601157\\\\\n",
       "\t 0.01590202  & 0.01556715  & 0.01503978  & 0.01479152  & 0.01456218  & 0.01422009  & 0.01413960  & 0.01407365  & 0.01392008  & 0.01399616  & ...         & 0.010098545 & 0.010051045 & 0.010007003 & 0.009962409 & 0.009915840 & 0.009869850 & 0.009825877 & 0.009781026 & 0.009733028 & 0.009682169\\\\\n",
       "\\end{tabular}\n"
      ],
      "text/markdown": [
       "\n",
       "| 2010 | 2011 | 2012 | 2013 | 2014 | 2015 | 2016 | 2017 | 2018 | 2019 | ... | 2051 | 2052 | 2053 | 2054 | 2055 | 2056 | 2057 | 2058 | 2059 | 2060 |\n",
       "|---|---|---|---|---|---|---|---|---|---|---|---|---|---|---|---|---|---|---|---|---|\n",
       "| 0.01491034  | 0.01481515  | 0.01473317  | 0.01456459  | 0.01463232  | 0.01479969  | 0.01437552  | 0.01414845  | 0.01428444  | 0.01408987  | ...         | 0.009805024 | 0.009749357 | 0.009692820 | 0.009633458 | 0.009571504 | 0.009510162 | 0.009452023 | 0.009393593 | 0.009334492 | 0.009276284 |\n",
       "| 0.01510440  | 0.01474750  | 0.01465664  | 0.01458016  | 0.01441407  | 0.01448033  | 0.01465430  | 0.01423869  | 0.01401291  | 0.01415212  | ...         | 0.009864886 | 0.009809336 | 0.009756075 | 0.009701957 | 0.009644971 | 0.009585338 | 0.009526266 | 0.009470335 | 0.009414074 | 0.009357121 |\n",
       "| 0.01519922  | 0.01495972  | 0.01460791  | 0.01452098  | 0.01444485  | 0.01427855  | 0.01435100  | 0.01452727  | 0.01411386  | 0.01389371  | ...         | 0.009926294 | 0.009872614 | 0.009819498 | 0.009768575 | 0.009716813 | 0.009662156 | 0.009604744 | 0.009547926 | 0.009494154 | 0.009439995 |\n",
       "| 0.01531573  | 0.01505850  | 0.01482273  | 0.01447702  | 0.01439041  | 0.01431306  | 0.01415490  | 0.01423032  | 0.01440357  | 0.01399730  | ...         | 0.009984807 | 0.009935424 | 0.009884094 | 0.009833389 | 0.009784807 | 0.009735365 | 0.009682953 | 0.009627773 | 0.009573134 | 0.009521511 |\n",
       "| 0.01570936  | 0.01517576  | 0.01492236  | 0.01469158  | 0.01434840  | 0.01426061  | 0.01419053  | 0.01403727  | 0.01411048  | 0.01428591  | ...         | 0.010040952 | 0.009994482 | 0.009947465 | 0.009898514 | 0.009850202 | 0.009803942 | 0.009756801 | 0.009706592 | 0.009653594 | 0.009601157 |\n",
       "| 0.01590202  | 0.01556715  | 0.01503978  | 0.01479152  | 0.01456218  | 0.01422009  | 0.01413960  | 0.01407365  | 0.01392008  | 0.01399616  | ...         | 0.010098545 | 0.010051045 | 0.010007003 | 0.009962409 | 0.009915840 | 0.009869850 | 0.009825877 | 0.009781026 | 0.009733028 | 0.009682169 |\n",
       "\n"
      ],
      "text/plain": [
       "  2010       2011       2012       2013       2014       2015       2016      \n",
       "1 0.01491034 0.01481515 0.01473317 0.01456459 0.01463232 0.01479969 0.01437552\n",
       "2 0.01510440 0.01474750 0.01465664 0.01458016 0.01441407 0.01448033 0.01465430\n",
       "3 0.01519922 0.01495972 0.01460791 0.01452098 0.01444485 0.01427855 0.01435100\n",
       "4 0.01531573 0.01505850 0.01482273 0.01447702 0.01439041 0.01431306 0.01415490\n",
       "5 0.01570936 0.01517576 0.01492236 0.01469158 0.01434840 0.01426061 0.01419053\n",
       "6 0.01590202 0.01556715 0.01503978 0.01479152 0.01456218 0.01422009 0.01413960\n",
       "  2017       2018       2019       ... 2051        2052        2053       \n",
       "1 0.01414845 0.01428444 0.01408987 ... 0.009805024 0.009749357 0.009692820\n",
       "2 0.01423869 0.01401291 0.01415212 ... 0.009864886 0.009809336 0.009756075\n",
       "3 0.01452727 0.01411386 0.01389371 ... 0.009926294 0.009872614 0.009819498\n",
       "4 0.01423032 0.01440357 0.01399730 ... 0.009984807 0.009935424 0.009884094\n",
       "5 0.01403727 0.01411048 0.01428591 ... 0.010040952 0.009994482 0.009947465\n",
       "6 0.01407365 0.01392008 0.01399616 ... 0.010098545 0.010051045 0.010007003\n",
       "  2054        2055        2056        2057        2058        2059       \n",
       "1 0.009633458 0.009571504 0.009510162 0.009452023 0.009393593 0.009334492\n",
       "2 0.009701957 0.009644971 0.009585338 0.009526266 0.009470335 0.009414074\n",
       "3 0.009768575 0.009716813 0.009662156 0.009604744 0.009547926 0.009494154\n",
       "4 0.009833389 0.009784807 0.009735365 0.009682953 0.009627773 0.009573134\n",
       "5 0.009898514 0.009850202 0.009803942 0.009756801 0.009706592 0.009653594\n",
       "6 0.009962409 0.009915840 0.009869850 0.009825877 0.009781026 0.009733028\n",
       "  2060       \n",
       "1 0.009276284\n",
       "2 0.009357121\n",
       "3 0.009439995\n",
       "4 0.009521511\n",
       "5 0.009601157\n",
       "6 0.009682169"
      ]
     },
     "metadata": {},
     "output_type": "display_data"
    }
   ],
   "source": [
    "indices <- populacaoIdade\n",
    "for (i in 1:length(populacaoIdade)) {\n",
    "  indices[i] = populacaoIdade[,i]/apply(populacaoIdade[,i], 2, sum)\n",
    "}\n",
    "# Selecionando os indices que interessam\n",
    "indicesPNE  <- indices[5:15]\n",
    "pop1420     <- populacaoBrasil[, c(1:2, 13:19)]\n",
    "head(indices)"
   ]
  },
  {
   "cell_type": "markdown",
   "metadata": {},
   "source": [
    "# Passo 5:  Filtrando o estado e cidade"
   ]
  },
  {
   "cell_type": "code",
   "execution_count": 19,
   "metadata": {},
   "outputs": [
    {
     "data": {
      "text/html": [
       "95714"
      ],
      "text/latex": [
       "95714"
      ],
      "text/markdown": [
       "95714"
      ],
      "text/plain": [
       "[1] 95714"
      ]
     },
     "metadata": {},
     "output_type": "display_data"
    }
   ],
   "source": [
    "Estado <- \"AM\"\n",
    "Cidade <- \"Itacoatiara\"\n",
    "Ano    <- \"2014\"\n",
    "\n",
    "popEstCid = pop1420 %>% \n",
    "      filter(UF == Estado) %>% filter(Cidades == Cidade) \n",
    "\n",
    "popCidadeAno <- popEstCid %>% select(Ano) %>% as.numeric()\n",
    "popCidadeAno"
   ]
  },
  {
   "cell_type": "markdown",
   "metadata": {},
   "source": [
    "# Passo 6: Estimar as idades / faixas-etárias "
   ]
  },
  {
   "cell_type": "code",
   "execution_count": 21,
   "metadata": {},
   "outputs": [
    {
     "data": {
      "text/html": [
       "<table>\n",
       "<thead><tr><th scope=col>Faixa_Etaria</th><th scope=col>Populacao</th><th scope=col>Prop</th></tr></thead>\n",
       "<tbody>\n",
       "\t<tr><td>Faixa 1: 0 a 3       </td><td> 5541                </td><td> 5.8                 </td></tr>\n",
       "\t<tr><td>Faixa 2: 4 a 5       </td><td> 2767                </td><td> 2.9                 </td></tr>\n",
       "\t<tr><td>Faixa 3: 6 a 14      </td><td>13392                </td><td>14.0                 </td></tr>\n",
       "\t<tr><td>Faixa 4: 15 a 17     </td><td> 4977                </td><td> 5.2                 </td></tr>\n",
       "\t<tr><td>Faixa 4: 18 anos ou +</td><td>69040                </td><td>72.1                 </td></tr>\n",
       "</tbody>\n",
       "</table>\n"
      ],
      "text/latex": [
       "\\begin{tabular}{r|lll}\n",
       " Faixa\\_Etaria & Populacao & Prop\\\\\n",
       "\\hline\n",
       "\t Faixa 1: 0 a 3        &  5541                 &  5.8                 \\\\\n",
       "\t Faixa 2: 4 a 5        &  2767                 &  2.9                 \\\\\n",
       "\t Faixa 3: 6 a 14       & 13392                 & 14.0                 \\\\\n",
       "\t Faixa 4: 15 a 17      &  4977                 &  5.2                 \\\\\n",
       "\t Faixa 4: 18 anos ou + & 69040                 & 72.1                 \\\\\n",
       "\\end{tabular}\n"
      ],
      "text/markdown": [
       "\n",
       "| Faixa_Etaria | Populacao | Prop |\n",
       "|---|---|---|\n",
       "| Faixa 1: 0 a 3        |  5541                 |  5.8                  |\n",
       "| Faixa 2: 4 a 5        |  2767                 |  2.9                  |\n",
       "| Faixa 3: 6 a 14       | 13392                 | 14.0                  |\n",
       "| Faixa 4: 15 a 17      |  4977                 |  5.2                  |\n",
       "| Faixa 4: 18 anos ou + | 69040                 | 72.1                  |\n",
       "\n"
      ],
      "text/plain": [
       "  Faixa_Etaria          Populacao Prop\n",
       "1 Faixa 1: 0 a 3         5541      5.8\n",
       "2 Faixa 2: 4 a 5         2767      2.9\n",
       "3 Faixa 3: 6 a 14       13392     14.0\n",
       "4 Faixa 4: 15 a 17       4977      5.2\n",
       "5 Faixa 4: 18 anos ou + 69040     72.1"
      ]
     },
     "metadata": {},
     "output_type": "display_data"
    }
   ],
   "source": [
    "resultado <- cbind(idades,round(popCidadeAno*indicesPNE[Ano],0))\n",
    "colnames(resultado)[2] <- \"Ano2014\"\n",
    "somatt <- sum(resultado$Ano2014)  \n",
    "resultado <- resultado %>% mutate(\n",
    "          Faixa_Etaria = case_when(\n",
    "                IDADE  %in% 0:3    ~ \"Faixa 1: 0 a 3\",\n",
    "                IDADE  %in% 4:5    ~ \"Faixa 2: 4 a 5\",\n",
    "                IDADE  %in% 6:14   ~ \"Faixa 3: 6 a 14\",\n",
    "                IDADE  %in% 15:17  ~ \"Faixa 4: 15 a 17\",\n",
    "                IDADE   >   17     ~ \"Faixa 4: 18 anos ou +\") \n",
    ")\n",
    "\n",
    "popFaixa <- resultado %>% \n",
    "            group_by(Faixa_Etaria) %>%\n",
    "            summarise(Populacao = sum(Ano2014),\n",
    "                      Prop = round((sum(Populacao)/somatt*100),1)\n",
    "                     ) \n",
    "popFaixa"
   ]
  },
  {
   "cell_type": "code",
   "execution_count": 7,
   "metadata": {},
   "outputs": [],
   "source": [
    "# tt = c(\"Total\", sum(popFaixa$Populacao), sum(popFaixa$Prop)) \n",
    "       \n",
    "# popFaixa = rbind(popFaixa, tt)"
   ]
  },
  {
   "cell_type": "code",
   "execution_count": 22,
   "metadata": {},
   "outputs": [
    {
     "data": {
      "text/html": [
       "<table>\n",
       "<thead><tr><th scope=col>Faixa_Etaria</th><th scope=col>Populacao</th><th scope=col>Prop</th></tr></thead>\n",
       "<tbody>\n",
       "\t<tr><td>Faixa 1: 0 a 3       </td><td> 5541                </td><td> 5.8                 </td></tr>\n",
       "\t<tr><td>Faixa 2: 4 a 5       </td><td> 2767                </td><td> 2.9                 </td></tr>\n",
       "\t<tr><td>Faixa 3: 6 a 14      </td><td>13392                </td><td>14.0                 </td></tr>\n",
       "\t<tr><td>Faixa 4: 15 a 17     </td><td> 4977                </td><td> 5.2                 </td></tr>\n",
       "\t<tr><td>Faixa 4: 18 anos ou +</td><td>69040                </td><td>72.1                 </td></tr>\n",
       "</tbody>\n",
       "</table>\n"
      ],
      "text/latex": [
       "\\begin{tabular}{r|lll}\n",
       " Faixa\\_Etaria & Populacao & Prop\\\\\n",
       "\\hline\n",
       "\t Faixa 1: 0 a 3        &  5541                 &  5.8                 \\\\\n",
       "\t Faixa 2: 4 a 5        &  2767                 &  2.9                 \\\\\n",
       "\t Faixa 3: 6 a 14       & 13392                 & 14.0                 \\\\\n",
       "\t Faixa 4: 15 a 17      &  4977                 &  5.2                 \\\\\n",
       "\t Faixa 4: 18 anos ou + & 69040                 & 72.1                 \\\\\n",
       "\\end{tabular}\n"
      ],
      "text/markdown": [
       "\n",
       "| Faixa_Etaria | Populacao | Prop |\n",
       "|---|---|---|\n",
       "| Faixa 1: 0 a 3        |  5541                 |  5.8                  |\n",
       "| Faixa 2: 4 a 5        |  2767                 |  2.9                  |\n",
       "| Faixa 3: 6 a 14       | 13392                 | 14.0                  |\n",
       "| Faixa 4: 15 a 17      |  4977                 |  5.2                  |\n",
       "| Faixa 4: 18 anos ou + | 69040                 | 72.1                  |\n",
       "\n"
      ],
      "text/plain": [
       "  Faixa_Etaria          Populacao Prop\n",
       "1 Faixa 1: 0 a 3         5541      5.8\n",
       "2 Faixa 2: 4 a 5         2767      2.9\n",
       "3 Faixa 3: 6 a 14       13392     14.0\n",
       "4 Faixa 4: 15 a 17       4977      5.2\n",
       "5 Faixa 4: 18 anos ou + 69040     72.1"
      ]
     },
     "metadata": {},
     "output_type": "display_data"
    }
   ],
   "source": [
    "popFaixa"
   ]
  },
  {
   "cell_type": "markdown",
   "metadata": {},
   "source": [
    "# Passo 7: Importando grandes bases de dados usando o comando \"fread\" do pacote \"data.frame\""
   ]
  },
  {
   "cell_type": "code",
   "execution_count": 23,
   "metadata": {},
   "outputs": [
    {
     "name": "stderr",
     "output_type": "stream",
     "text": [
      "Warning message in require_bit64():\n",
      "\"Some columns are type 'integer64' but package bit64 is not installed. Those columns will print as strange looking floating point data. There is no need to reload the data. Simply install.packages('bit64') to obtain the integer64 print method and print the data again.\""
     ]
    }
   ],
   "source": [
    "setwd(\"C:\\\\Users\\\\hidel\\\\Documents\\\\Dataset\")\n",
    "MATRICULA_NORTE <- fread(\"INEP/CENSO/micro_censo_escolar_2013/2013/DADOS/MATRICULA_NORTE.CSV\")"
   ]
  },
  {
   "cell_type": "code",
   "execution_count": 24,
   "metadata": {},
   "outputs": [
    {
     "data": {
      "text/html": [
       "<table>\n",
       "<thead><tr><th scope=col>ANO_CENSO</th><th scope=col>PK_COD_MATRICULA</th><th scope=col>FK_COD_ALUNO</th><th scope=col>NU_DIA</th><th scope=col>NU_MES</th><th scope=col>NU_ANO</th><th scope=col>NUM_IDADE_REFERENCIA</th><th scope=col>NUM_IDADE</th><th scope=col>NU_DUR_ESCOLARIZACAO</th><th scope=col>NU_DUR_ATIV_COMP_MESMA_REDE</th><th scope=col>...</th><th scope=col>ID_CONVENIADA_PP_ESC</th><th scope=col>ID_TIPO_CONVENIO_PODER_PUBLICO</th><th scope=col>ID_MANT_ESCOLA_PRIVADA_EMP</th><th scope=col>ID_MANT_ESCOLA_PRIVADA_ONG</th><th scope=col>ID_MANT_ESCOLA_PRIVADA_SIND</th><th scope=col>ID_MANT_ESCOLA_PRIVADA_SIST_S</th><th scope=col>ID_MANT_ESCOLA_PRIVADA_S_FINS</th><th scope=col>ID_DOCUMENTO_REGULAMENTACAO</th><th scope=col>ID_LOCALIZACAO_DIFERENCIADA</th><th scope=col>ID_EDUCACAO_INDIGENA</th></tr></thead>\n",
       "<tbody>\n",
       "\t<tr><td>2013         </td><td>6302238      </td><td>5.492364e-313</td><td> 7           </td><td>11           </td><td>1997         </td><td>15           </td><td>16           </td><td>255          </td><td>0            </td><td>...          </td><td>NA           </td><td>NA           </td><td>0            </td><td>0            </td><td>0            </td><td>0            </td><td>0            </td><td>1            </td><td>0            </td><td>0            </td></tr>\n",
       "\t<tr><td>2013         </td><td>6296781      </td><td>5.542930e-313</td><td> 1           </td><td>10           </td><td>1996         </td><td>16           </td><td>17           </td><td>255          </td><td>0            </td><td>...          </td><td>NA           </td><td>NA           </td><td>0            </td><td>0            </td><td>0            </td><td>0            </td><td>0            </td><td>1            </td><td>0            </td><td>0            </td></tr>\n",
       "\t<tr><td>2013         </td><td>6173355      </td><td>5.505630e-313</td><td>24           </td><td> 9           </td><td>1996         </td><td>16           </td><td>17           </td><td>255          </td><td>0            </td><td>...          </td><td>NA           </td><td>NA           </td><td>0            </td><td>0            </td><td>0            </td><td>0            </td><td>0            </td><td>1            </td><td>0            </td><td>0            </td></tr>\n",
       "\t<tr><td>2013         </td><td>6281606      </td><td>5.768860e-313</td><td>10           </td><td> 1           </td><td>1996         </td><td>17           </td><td>17           </td><td>255          </td><td>0            </td><td>...          </td><td>NA           </td><td>NA           </td><td>0            </td><td>0            </td><td>0            </td><td>0            </td><td>0            </td><td>1            </td><td>0            </td><td>0            </td></tr>\n",
       "\t<tr><td>2013         </td><td>6313789      </td><td>5.952020e-313</td><td>21           </td><td> 7           </td><td>1997         </td><td>15           </td><td>16           </td><td>255          </td><td>0            </td><td>...          </td><td>NA           </td><td>NA           </td><td>0            </td><td>0            </td><td>0            </td><td>0            </td><td>0            </td><td>1            </td><td>0            </td><td>0            </td></tr>\n",
       "\t<tr><td>2013         </td><td>6273870      </td><td>5.500150e-313</td><td>16           </td><td>12           </td><td>1997         </td><td>15           </td><td>16           </td><td>255          </td><td>0            </td><td>...          </td><td>NA           </td><td>NA           </td><td>0            </td><td>0            </td><td>0            </td><td>0            </td><td>0            </td><td>1            </td><td>0            </td><td>0            </td></tr>\n",
       "</tbody>\n",
       "</table>\n"
      ],
      "text/latex": [
       "\\begin{tabular}{r|lllllllllllllllllllllllllllllllllllllllllllllllllllllllllllllllllllllllllllllllllllll}\n",
       " ANO\\_CENSO & PK\\_COD\\_MATRICULA & FK\\_COD\\_ALUNO & NU\\_DIA & NU\\_MES & NU\\_ANO & NUM\\_IDADE\\_REFERENCIA & NUM\\_IDADE & NU\\_DUR\\_ESCOLARIZACAO & NU\\_DUR\\_ATIV\\_COMP\\_MESMA\\_REDE & ... & ID\\_CONVENIADA\\_PP\\_ESC & ID\\_TIPO\\_CONVENIO\\_PODER\\_PUBLICO & ID\\_MANT\\_ESCOLA\\_PRIVADA\\_EMP & ID\\_MANT\\_ESCOLA\\_PRIVADA\\_ONG & ID\\_MANT\\_ESCOLA\\_PRIVADA\\_SIND & ID\\_MANT\\_ESCOLA\\_PRIVADA\\_SIST\\_S & ID\\_MANT\\_ESCOLA\\_PRIVADA\\_S\\_FINS & ID\\_DOCUMENTO\\_REGULAMENTACAO & ID\\_LOCALIZACAO\\_DIFERENCIADA & ID\\_EDUCACAO\\_INDIGENA\\\\\n",
       "\\hline\n",
       "\t 2013          & 6302238       & 5.492364e-313 &  7            & 11            & 1997          & 15            & 16            & 255           & 0             & ...           & NA            & NA            & 0             & 0             & 0             & 0             & 0             & 1             & 0             & 0            \\\\\n",
       "\t 2013          & 6296781       & 5.542930e-313 &  1            & 10            & 1996          & 16            & 17            & 255           & 0             & ...           & NA            & NA            & 0             & 0             & 0             & 0             & 0             & 1             & 0             & 0            \\\\\n",
       "\t 2013          & 6173355       & 5.505630e-313 & 24            &  9            & 1996          & 16            & 17            & 255           & 0             & ...           & NA            & NA            & 0             & 0             & 0             & 0             & 0             & 1             & 0             & 0            \\\\\n",
       "\t 2013          & 6281606       & 5.768860e-313 & 10            &  1            & 1996          & 17            & 17            & 255           & 0             & ...           & NA            & NA            & 0             & 0             & 0             & 0             & 0             & 1             & 0             & 0            \\\\\n",
       "\t 2013          & 6313789       & 5.952020e-313 & 21            &  7            & 1997          & 15            & 16            & 255           & 0             & ...           & NA            & NA            & 0             & 0             & 0             & 0             & 0             & 1             & 0             & 0            \\\\\n",
       "\t 2013          & 6273870       & 5.500150e-313 & 16            & 12            & 1997          & 15            & 16            & 255           & 0             & ...           & NA            & NA            & 0             & 0             & 0             & 0             & 0             & 1             & 0             & 0            \\\\\n",
       "\\end{tabular}\n"
      ],
      "text/markdown": [
       "\n",
       "| ANO_CENSO | PK_COD_MATRICULA | FK_COD_ALUNO | NU_DIA | NU_MES | NU_ANO | NUM_IDADE_REFERENCIA | NUM_IDADE | NU_DUR_ESCOLARIZACAO | NU_DUR_ATIV_COMP_MESMA_REDE | ... | ID_CONVENIADA_PP_ESC | ID_TIPO_CONVENIO_PODER_PUBLICO | ID_MANT_ESCOLA_PRIVADA_EMP | ID_MANT_ESCOLA_PRIVADA_ONG | ID_MANT_ESCOLA_PRIVADA_SIND | ID_MANT_ESCOLA_PRIVADA_SIST_S | ID_MANT_ESCOLA_PRIVADA_S_FINS | ID_DOCUMENTO_REGULAMENTACAO | ID_LOCALIZACAO_DIFERENCIADA | ID_EDUCACAO_INDIGENA |\n",
       "|---|---|---|---|---|---|---|---|---|---|---|---|---|---|---|---|---|---|---|---|---|\n",
       "| 2013          | 6302238       | 5.492364e-313 |  7            | 11            | 1997          | 15            | 16            | 255           | 0             | ...           | NA            | NA            | 0             | 0             | 0             | 0             | 0             | 1             | 0             | 0             |\n",
       "| 2013          | 6296781       | 5.542930e-313 |  1            | 10            | 1996          | 16            | 17            | 255           | 0             | ...           | NA            | NA            | 0             | 0             | 0             | 0             | 0             | 1             | 0             | 0             |\n",
       "| 2013          | 6173355       | 5.505630e-313 | 24            |  9            | 1996          | 16            | 17            | 255           | 0             | ...           | NA            | NA            | 0             | 0             | 0             | 0             | 0             | 1             | 0             | 0             |\n",
       "| 2013          | 6281606       | 5.768860e-313 | 10            |  1            | 1996          | 17            | 17            | 255           | 0             | ...           | NA            | NA            | 0             | 0             | 0             | 0             | 0             | 1             | 0             | 0             |\n",
       "| 2013          | 6313789       | 5.952020e-313 | 21            |  7            | 1997          | 15            | 16            | 255           | 0             | ...           | NA            | NA            | 0             | 0             | 0             | 0             | 0             | 1             | 0             | 0             |\n",
       "| 2013          | 6273870       | 5.500150e-313 | 16            | 12            | 1997          | 15            | 16            | 255           | 0             | ...           | NA            | NA            | 0             | 0             | 0             | 0             | 0             | 1             | 0             | 0             |\n",
       "\n"
      ],
      "text/plain": [
       "  ANO_CENSO PK_COD_MATRICULA FK_COD_ALUNO  NU_DIA NU_MES NU_ANO\n",
       "1 2013      6302238          5.492364e-313  7     11     1997  \n",
       "2 2013      6296781          5.542930e-313  1     10     1996  \n",
       "3 2013      6173355          5.505630e-313 24      9     1996  \n",
       "4 2013      6281606          5.768860e-313 10      1     1996  \n",
       "5 2013      6313789          5.952020e-313 21      7     1997  \n",
       "6 2013      6273870          5.500150e-313 16     12     1997  \n",
       "  NUM_IDADE_REFERENCIA NUM_IDADE NU_DUR_ESCOLARIZACAO\n",
       "1 15                   16        255                 \n",
       "2 16                   17        255                 \n",
       "3 16                   17        255                 \n",
       "4 17                   17        255                 \n",
       "5 15                   16        255                 \n",
       "6 15                   16        255                 \n",
       "  NU_DUR_ATIV_COMP_MESMA_REDE ... ID_CONVENIADA_PP_ESC\n",
       "1 0                           ... NA                  \n",
       "2 0                           ... NA                  \n",
       "3 0                           ... NA                  \n",
       "4 0                           ... NA                  \n",
       "5 0                           ... NA                  \n",
       "6 0                           ... NA                  \n",
       "  ID_TIPO_CONVENIO_PODER_PUBLICO ID_MANT_ESCOLA_PRIVADA_EMP\n",
       "1 NA                             0                         \n",
       "2 NA                             0                         \n",
       "3 NA                             0                         \n",
       "4 NA                             0                         \n",
       "5 NA                             0                         \n",
       "6 NA                             0                         \n",
       "  ID_MANT_ESCOLA_PRIVADA_ONG ID_MANT_ESCOLA_PRIVADA_SIND\n",
       "1 0                          0                          \n",
       "2 0                          0                          \n",
       "3 0                          0                          \n",
       "4 0                          0                          \n",
       "5 0                          0                          \n",
       "6 0                          0                          \n",
       "  ID_MANT_ESCOLA_PRIVADA_SIST_S ID_MANT_ESCOLA_PRIVADA_S_FINS\n",
       "1 0                             0                            \n",
       "2 0                             0                            \n",
       "3 0                             0                            \n",
       "4 0                             0                            \n",
       "5 0                             0                            \n",
       "6 0                             0                            \n",
       "  ID_DOCUMENTO_REGULAMENTACAO ID_LOCALIZACAO_DIFERENCIADA ID_EDUCACAO_INDIGENA\n",
       "1 1                           0                           0                   \n",
       "2 1                           0                           0                   \n",
       "3 1                           0                           0                   \n",
       "4 1                           0                           0                   \n",
       "5 1                           0                           0                   \n",
       "6 1                           0                           0                   "
      ]
     },
     "metadata": {},
     "output_type": "display_data"
    }
   ],
   "source": [
    "head(MATRICULA_NORTE)"
   ]
  },
  {
   "cell_type": "code",
   "execution_count": 11,
   "metadata": {},
   "outputs": [],
   "source": [
    "varInteresse = c(\"ANO_CENSO\", \"NUM_IDADE\", \"FK_COD_ETAPA_ENSINO\", \"FK_COD_MUNICIPIO_END\")\n",
    "# Passo 1 - formartar a data, mostrar o caminho do arquivo a ser lido e ler o arquivo \n",
    "dt = as_date(\"2014-01-01\") \n",
    "caminho   = format(dt, \"INEP/CENSO/micro_censo_escolar_%Y/%Y/DADOS/MATRICULA_NORTE.CSV\")\n",
    "lerArquivo = fread(caminho, select = (varInteresse), na.strings = \"\", stringsAsFactors = T)"
   ]
  },
  {
   "cell_type": "markdown",
   "metadata": {},
   "source": [
    "# Passo 8 - Ler o arquivo e filtrar as cidades de interesse"
   ]
  },
  {
   "cell_type": "code",
   "execution_count": 25,
   "metadata": {},
   "outputs": [],
   "source": [
    "lerArquivo <- lerArquivo  %>% \n",
    "    filter(lerArquivo$FK_COD_MUNICIPIO_END == \"1301902\"\n",
    "  )"
   ]
  },
  {
   "cell_type": "code",
   "execution_count": 26,
   "metadata": {},
   "outputs": [
    {
     "name": "stdout",
     "output_type": "stream",
     "text": [
      "'data.frame':\t40291 obs. of  4 variables:\n",
      " $ ANO_CENSO           : int  2014 2014 2014 2014 2014 2014 2014 2014 2014 2014 ...\n",
      " $ NUM_IDADE           : int  6 7 5 5 5 5 6 6 5 6 ...\n",
      " $ FK_COD_ETAPA_ENSINO : int  14 14 2 2 2 2 2 2 2 14 ...\n",
      " $ FK_COD_MUNICIPIO_END: int  1301902 1301902 1301902 1301902 1301902 1301902 1301902 1301902 1301902 1301902 ...\n",
      " - attr(*, \".internal.selfref\")=<externalptr> \n"
     ]
    }
   ],
   "source": [
    "str(lerArquivo)"
   ]
  },
  {
   "cell_type": "code",
   "execution_count": 27,
   "metadata": {},
   "outputs": [
    {
     "data": {
      "text/html": [
       "<table>\n",
       "<thead><tr><th scope=col>ANO_CENSO</th><th scope=col>NUM_IDADE</th><th scope=col>FK_COD_ETAPA_ENSINO</th><th scope=col>FK_COD_MUNICIPIO_END</th></tr></thead>\n",
       "<tbody>\n",
       "\t<tr><td>2014   </td><td>6      </td><td>14     </td><td>1301902</td></tr>\n",
       "\t<tr><td>2014   </td><td>7      </td><td>14     </td><td>1301902</td></tr>\n",
       "\t<tr><td>2014   </td><td>5      </td><td> 2     </td><td>1301902</td></tr>\n",
       "\t<tr><td>2014   </td><td>5      </td><td> 2     </td><td>1301902</td></tr>\n",
       "\t<tr><td>2014   </td><td>5      </td><td> 2     </td><td>1301902</td></tr>\n",
       "\t<tr><td>2014   </td><td>5      </td><td> 2     </td><td>1301902</td></tr>\n",
       "</tbody>\n",
       "</table>\n"
      ],
      "text/latex": [
       "\\begin{tabular}{r|llll}\n",
       " ANO\\_CENSO & NUM\\_IDADE & FK\\_COD\\_ETAPA\\_ENSINO & FK\\_COD\\_MUNICIPIO\\_END\\\\\n",
       "\\hline\n",
       "\t 2014    & 6       & 14      & 1301902\\\\\n",
       "\t 2014    & 7       & 14      & 1301902\\\\\n",
       "\t 2014    & 5       &  2      & 1301902\\\\\n",
       "\t 2014    & 5       &  2      & 1301902\\\\\n",
       "\t 2014    & 5       &  2      & 1301902\\\\\n",
       "\t 2014    & 5       &  2      & 1301902\\\\\n",
       "\\end{tabular}\n"
      ],
      "text/markdown": [
       "\n",
       "| ANO_CENSO | NUM_IDADE | FK_COD_ETAPA_ENSINO | FK_COD_MUNICIPIO_END |\n",
       "|---|---|---|---|\n",
       "| 2014    | 6       | 14      | 1301902 |\n",
       "| 2014    | 7       | 14      | 1301902 |\n",
       "| 2014    | 5       |  2      | 1301902 |\n",
       "| 2014    | 5       |  2      | 1301902 |\n",
       "| 2014    | 5       |  2      | 1301902 |\n",
       "| 2014    | 5       |  2      | 1301902 |\n",
       "\n"
      ],
      "text/plain": [
       "  ANO_CENSO NUM_IDADE FK_COD_ETAPA_ENSINO FK_COD_MUNICIPIO_END\n",
       "1 2014      6         14                  1301902             \n",
       "2 2014      7         14                  1301902             \n",
       "3 2014      5          2                  1301902             \n",
       "4 2014      5          2                  1301902             \n",
       "5 2014      5          2                  1301902             \n",
       "6 2014      5          2                  1301902             "
      ]
     },
     "metadata": {},
     "output_type": "display_data"
    }
   ],
   "source": [
    "head(lerArquivo)"
   ]
  },
  {
   "cell_type": "markdown",
   "metadata": {},
   "source": [
    "# Criando nova coluna com as faixas-etárias de interesse"
   ]
  },
  {
   "cell_type": "code",
   "execution_count": 28,
   "metadata": {},
   "outputs": [],
   "source": [
    "FH = lerArquivo %>% \n",
    "  mutate(\n",
    "    Faixa_Etaria = case_when(\n",
    "           NUM_IDADE  %in% 0:3    ~ \"Faixa 1: 0 a 3\",\n",
    "           NUM_IDADE  %in% 4:5    ~ \"Faixa 2: 4 a 5\",\n",
    "           NUM_IDADE  %in% 6:14   ~ \"Faixa 3: 6 a 14\",\n",
    "           NUM_IDADE  %in% 15:17  ~ \"Faixa 4: 15 a 17\",\n",
    "           NUM_IDADE   >   17     ~ \"Faixa 4: 18 anos ou +\"))"
   ]
  },
  {
   "cell_type": "code",
   "execution_count": 29,
   "metadata": {},
   "outputs": [
    {
     "data": {
      "text/html": [
       "<table>\n",
       "<thead><tr><th scope=col>ANO_CENSO</th><th scope=col>NUM_IDADE</th><th scope=col>FK_COD_ETAPA_ENSINO</th><th scope=col>FK_COD_MUNICIPIO_END</th><th scope=col>Faixa_Etaria</th></tr></thead>\n",
       "<tbody>\n",
       "\t<tr><td>2014           </td><td>6              </td><td>14             </td><td>1301902        </td><td>Faixa 3: 6 a 14</td></tr>\n",
       "\t<tr><td>2014           </td><td>7              </td><td>14             </td><td>1301902        </td><td>Faixa 3: 6 a 14</td></tr>\n",
       "\t<tr><td>2014           </td><td>5              </td><td> 2             </td><td>1301902        </td><td>Faixa 2: 4 a 5 </td></tr>\n",
       "\t<tr><td>2014           </td><td>5              </td><td> 2             </td><td>1301902        </td><td>Faixa 2: 4 a 5 </td></tr>\n",
       "\t<tr><td>2014           </td><td>5              </td><td> 2             </td><td>1301902        </td><td>Faixa 2: 4 a 5 </td></tr>\n",
       "\t<tr><td>2014           </td><td>5              </td><td> 2             </td><td>1301902        </td><td>Faixa 2: 4 a 5 </td></tr>\n",
       "</tbody>\n",
       "</table>\n"
      ],
      "text/latex": [
       "\\begin{tabular}{r|lllll}\n",
       " ANO\\_CENSO & NUM\\_IDADE & FK\\_COD\\_ETAPA\\_ENSINO & FK\\_COD\\_MUNICIPIO\\_END & Faixa\\_Etaria\\\\\n",
       "\\hline\n",
       "\t 2014            & 6               & 14              & 1301902         & Faixa 3: 6 a 14\\\\\n",
       "\t 2014            & 7               & 14              & 1301902         & Faixa 3: 6 a 14\\\\\n",
       "\t 2014            & 5               &  2              & 1301902         & Faixa 2: 4 a 5 \\\\\n",
       "\t 2014            & 5               &  2              & 1301902         & Faixa 2: 4 a 5 \\\\\n",
       "\t 2014            & 5               &  2              & 1301902         & Faixa 2: 4 a 5 \\\\\n",
       "\t 2014            & 5               &  2              & 1301902         & Faixa 2: 4 a 5 \\\\\n",
       "\\end{tabular}\n"
      ],
      "text/markdown": [
       "\n",
       "| ANO_CENSO | NUM_IDADE | FK_COD_ETAPA_ENSINO | FK_COD_MUNICIPIO_END | Faixa_Etaria |\n",
       "|---|---|---|---|---|\n",
       "| 2014            | 6               | 14              | 1301902         | Faixa 3: 6 a 14 |\n",
       "| 2014            | 7               | 14              | 1301902         | Faixa 3: 6 a 14 |\n",
       "| 2014            | 5               |  2              | 1301902         | Faixa 2: 4 a 5  |\n",
       "| 2014            | 5               |  2              | 1301902         | Faixa 2: 4 a 5  |\n",
       "| 2014            | 5               |  2              | 1301902         | Faixa 2: 4 a 5  |\n",
       "| 2014            | 5               |  2              | 1301902         | Faixa 2: 4 a 5  |\n",
       "\n"
      ],
      "text/plain": [
       "  ANO_CENSO NUM_IDADE FK_COD_ETAPA_ENSINO FK_COD_MUNICIPIO_END Faixa_Etaria   \n",
       "1 2014      6         14                  1301902              Faixa 3: 6 a 14\n",
       "2 2014      7         14                  1301902              Faixa 3: 6 a 14\n",
       "3 2014      5          2                  1301902              Faixa 2: 4 a 5 \n",
       "4 2014      5          2                  1301902              Faixa 2: 4 a 5 \n",
       "5 2014      5          2                  1301902              Faixa 2: 4 a 5 \n",
       "6 2014      5          2                  1301902              Faixa 2: 4 a 5 "
      ]
     },
     "metadata": {},
     "output_type": "display_data"
    }
   ],
   "source": [
    "head(FH)"
   ]
  },
  {
   "cell_type": "code",
   "execution_count": 30,
   "metadata": {},
   "outputs": [
    {
     "data": {
      "text/html": [
       "<table>\n",
       "<thead><tr><th scope=col>Faixa_Etaria</th><th scope=col>Matricula</th><th scope=col>Prop</th></tr></thead>\n",
       "<tbody>\n",
       "\t<tr><td>Faixa 1: 0 a 3       </td><td>  212                </td><td> 0.5                 </td></tr>\n",
       "\t<tr><td>Faixa 2: 4 a 5       </td><td> 2211                </td><td> 5.5                 </td></tr>\n",
       "\t<tr><td>Faixa 3: 6 a 14      </td><td>24805                </td><td>61.6                 </td></tr>\n",
       "\t<tr><td>Faixa 4: 15 a 17     </td><td> 7170                </td><td>17.8                 </td></tr>\n",
       "\t<tr><td>Faixa 4: 18 anos ou +</td><td> 5893                </td><td>14.6                 </td></tr>\n",
       "</tbody>\n",
       "</table>\n"
      ],
      "text/latex": [
       "\\begin{tabular}{r|lll}\n",
       " Faixa\\_Etaria & Matricula & Prop\\\\\n",
       "\\hline\n",
       "\t Faixa 1: 0 a 3        &   212                 &  0.5                 \\\\\n",
       "\t Faixa 2: 4 a 5        &  2211                 &  5.5                 \\\\\n",
       "\t Faixa 3: 6 a 14       & 24805                 & 61.6                 \\\\\n",
       "\t Faixa 4: 15 a 17      &  7170                 & 17.8                 \\\\\n",
       "\t Faixa 4: 18 anos ou + &  5893                 & 14.6                 \\\\\n",
       "\\end{tabular}\n"
      ],
      "text/markdown": [
       "\n",
       "| Faixa_Etaria | Matricula | Prop |\n",
       "|---|---|---|\n",
       "| Faixa 1: 0 a 3        |   212                 |  0.5                  |\n",
       "| Faixa 2: 4 a 5        |  2211                 |  5.5                  |\n",
       "| Faixa 3: 6 a 14       | 24805                 | 61.6                  |\n",
       "| Faixa 4: 15 a 17      |  7170                 | 17.8                  |\n",
       "| Faixa 4: 18 anos ou + |  5893                 | 14.6                  |\n",
       "\n"
      ],
      "text/plain": [
       "  Faixa_Etaria          Matricula Prop\n",
       "1 Faixa 1: 0 a 3          212      0.5\n",
       "2 Faixa 2: 4 a 5         2211      5.5\n",
       "3 Faixa 3: 6 a 14       24805     61.6\n",
       "4 Faixa 4: 15 a 17       7170     17.8\n",
       "5 Faixa 4: 18 anos ou +  5893     14.6"
      ]
     },
     "metadata": {},
     "output_type": "display_data"
    }
   ],
   "source": [
    "  TFH <- FH %>% group_by(Faixa_Etaria)  %>% \n",
    "       summarise(Matricula = n()) \n",
    "   sMat <- sum(TFH$Matricula)\n",
    "   TFH  = TFH %>% mutate(Prop = round((Matricula/sMat*100),1)) \n",
    "   TFH"
   ]
  },
  {
   "cell_type": "code",
   "execution_count": 48,
   "metadata": {},
   "outputs": [
    {
     "data": {
      "text/html": [
       "<table>\n",
       "<thead><tr><th scope=col>Faixa_Etaria</th><th scope=col>Matricula</th><th scope=col>Populacao</th><th scope=col>Metas</th></tr></thead>\n",
       "<tbody>\n",
       "\t<tr><td>Faixa 1: 0 a 3       </td><td>212                  </td><td>5541                 </td><td>3.8                  </td></tr>\n",
       "\t<tr><td>Faixa 2: 4 a 5       </td><td>2211                 </td><td>2767                 </td><td>79.9                 </td></tr>\n",
       "\t<tr><td>Faixa 3: 6 a 14      </td><td>24805                </td><td>13392                </td><td>185.2                </td></tr>\n",
       "\t<tr><td>Faixa 4: 15 a 17     </td><td>7170                 </td><td>4977                 </td><td>144.1                </td></tr>\n",
       "\t<tr><td>Faixa 4: 18 anos ou +</td><td>5893                 </td><td>69040                </td><td>8.5                  </td></tr>\n",
       "\t<tr><td>Total                </td><td>40291                </td><td>95717                </td><td>                     </td></tr>\n",
       "</tbody>\n",
       "</table>\n"
      ],
      "text/latex": [
       "\\begin{tabular}{r|llll}\n",
       " Faixa\\_Etaria & Matricula & Populacao & Metas\\\\\n",
       "\\hline\n",
       "\t Faixa 1: 0 a 3        & 212                   & 5541                  & 3.8                  \\\\\n",
       "\t Faixa 2: 4 a 5        & 2211                  & 2767                  & 79.9                 \\\\\n",
       "\t Faixa 3: 6 a 14       & 24805                 & 13392                 & 185.2                \\\\\n",
       "\t Faixa 4: 15 a 17      & 7170                  & 4977                  & 144.1                \\\\\n",
       "\t Faixa 4: 18 anos ou + & 5893                  & 69040                 & 8.5                  \\\\\n",
       "\t Total                 & 40291                 & 95717                 &                      \\\\\n",
       "\\end{tabular}\n"
      ],
      "text/markdown": [
       "\n",
       "| Faixa_Etaria | Matricula | Populacao | Metas |\n",
       "|---|---|---|---|\n",
       "| Faixa 1: 0 a 3        | 212                   | 5541                  | 3.8                   |\n",
       "| Faixa 2: 4 a 5        | 2211                  | 2767                  | 79.9                  |\n",
       "| Faixa 3: 6 a 14       | 24805                 | 13392                 | 185.2                 |\n",
       "| Faixa 4: 15 a 17      | 7170                  | 4977                  | 144.1                 |\n",
       "| Faixa 4: 18 anos ou + | 5893                  | 69040                 | 8.5                   |\n",
       "| Total                 | 40291                 | 95717                 |                       |\n",
       "\n"
      ],
      "text/plain": [
       "  Faixa_Etaria          Matricula Populacao Metas\n",
       "1 Faixa 1: 0 a 3        212       5541      3.8  \n",
       "2 Faixa 2: 4 a 5        2211      2767      79.9 \n",
       "3 Faixa 3: 6 a 14       24805     13392     185.2\n",
       "4 Faixa 4: 15 a 17      7170      4977      144.1\n",
       "5 Faixa 4: 18 anos ou + 5893      69040     8.5  \n",
       "6 Total                 40291     95717          "
      ]
     },
     "metadata": {},
     "output_type": "display_data"
    }
   ],
   "source": [
    "tb_Matricula = cbind(TFH[,c(1,2)], popFaixa[,2]) %>% mutate(\n",
    "                Metas = round((Matricula/Populacao*100),1))\n",
    "\n",
    "tt2 = c(\"Total\", sum(tb_Matricula$Matricula), sum(tb_Matricula$Populacao), \"\" )\n",
    "tb_Matricula = rbind(tb_Matricula, tt2)\n",
    "tb_Matricula"
   ]
  },
  {
   "cell_type": "markdown",
   "metadata": {},
   "source": [
    "# Meta 1"
   ]
  },
  {
   "cell_type": "code",
   "execution_count": 52,
   "metadata": {},
   "outputs": [
    {
     "data": {
      "text/html": [
       "<table>\n",
       "<thead><tr><th scope=col>Faixa_Etaria</th><th scope=col>Matricula</th><th scope=col>Populacao</th><th scope=col>Metas</th></tr></thead>\n",
       "<tbody>\n",
       "\t<tr><td>Faixa 1: 0 a 3</td><td>212           </td><td>5541          </td><td>3.8           </td></tr>\n",
       "</tbody>\n",
       "</table>\n"
      ],
      "text/latex": [
       "\\begin{tabular}{r|llll}\n",
       " Faixa\\_Etaria & Matricula & Populacao & Metas\\\\\n",
       "\\hline\n",
       "\t Faixa 1: 0 a 3 & 212            & 5541           & 3.8           \\\\\n",
       "\\end{tabular}\n"
      ],
      "text/markdown": [
       "\n",
       "| Faixa_Etaria | Matricula | Populacao | Metas |\n",
       "|---|---|---|---|\n",
       "| Faixa 1: 0 a 3 | 212            | 5541           | 3.8            |\n",
       "\n"
      ],
      "text/plain": [
       "  Faixa_Etaria   Matricula Populacao Metas\n",
       "1 Faixa 1: 0 a 3 212       5541      3.8  "
      ]
     },
     "metadata": {},
     "output_type": "display_data"
    },
    {
     "data": {
      "text/html": [
       "<ol class=list-inline>\n",
       "\t<li>'Faixa_Etaria'</li>\n",
       "\t<li>'Matricula'</li>\n",
       "\t<li>'Populacao'</li>\n",
       "\t<li>'Metas'</li>\n",
       "</ol>\n"
      ],
      "text/latex": [
       "\\begin{enumerate*}\n",
       "\\item 'Faixa\\_Etaria'\n",
       "\\item 'Matricula'\n",
       "\\item 'Populacao'\n",
       "\\item 'Metas'\n",
       "\\end{enumerate*}\n"
      ],
      "text/markdown": [
       "1. 'Faixa_Etaria'\n",
       "2. 'Matricula'\n",
       "3. 'Populacao'\n",
       "4. 'Metas'\n",
       "\n",
       "\n"
      ],
      "text/plain": [
       "[1] \"Faixa_Etaria\" \"Matricula\"    \"Populacao\"    \"Metas\"       "
      ]
     },
     "metadata": {},
     "output_type": "display_data"
    }
   ],
   "source": [
    "Meta1A = tb_Matricula[1, ]\n",
    "Meta1A \n",
    "\n",
    "names(Meta1A)"
   ]
  }
 ],
 "metadata": {
  "kernelspec": {
   "display_name": "R",
   "language": "R",
   "name": "ir"
  },
  "language_info": {
   "codemirror_mode": "r",
   "file_extension": ".r",
   "mimetype": "text/x-r-source",
   "name": "R",
   "pygments_lexer": "r",
   "version": "3.6.1"
  }
 },
 "nbformat": 4,
 "nbformat_minor": 4
}
