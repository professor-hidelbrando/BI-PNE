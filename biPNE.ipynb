{
 "cells": [
  {
   "cell_type": "markdown",
   "metadata": {},
   "source": [
    "# Business Inteligence - Plano Nacional de Educação\n"
   ]
  },
  {
   "cell_type": "markdown",
   "metadata": {},
   "source": [
    "## Metodologia\n",
    "\n",
    "A estimativa de indicadores municipais esbarra na não existência, na maioria dos casos, de dados desagregados neste nível. Para contornar esse problema, optou-se por estimar a população das cidades pesquisadas a partir da distribuição por idade da população brasieira disponível no site do IBGE. Como o IBGE informa total da população brasileira distribuiada por idade (de 0 a 90+), calculou-se para cada idade. O IBGE informa apenas a estimativa total, ano a ano, da população dos munícípios. À estimativa da população de cada munípio, aplicou-se o índice calculado a partir da distribuição das idades da população total brasileira. \n",
    "\n",
    "Vale destar que o ideal seria, pelo menos a dsitribuição das idades a partir de dados da Região Norte, prefencialmente, do Amazonas. Mas foram localizados este dados desagregados por idade e unidade da federação. A estimativa da população dos municípios do Amazonas a partir de indicadores nacionais, certamente deve ser considerado na análise dos indicadores derivativos. Apesar do viés esperados, foi o caminho escolhido diante da ausênica de estatísticas das populações municipais, desagregadas por idade."
   ]
  },
  {
   "cell_type": "markdown",
   "metadata": {},
   "source": [
    "### Meta 1 - universalizar, até 2016, a educação infantil na pré-escola para as crianças de 4 (quatro) a 5 (cinco) anos de idade e ampliar a oferta de educação infantil em creches, de forma a atender, no mínimo, 50% (cinquenta por cento) das crianças de até 3 (três) anos até o final da vigência deste PNE.\n",
    "\n",
    "- Indicador 1 A – Percentual da população de 4 e 5 anos que frequenta a escola\n",
    "O indicador representa a proporção de crianças de 4 e 5 anos de idade que frequentam a escola em relação à população total dessa faixa etária. Esse indicador informa apenas se essa população tem acesso ou não à educação, não captando outros fatores relacionados à qualidade da oferta de ensino.\n",
    "Indicador 1B – Percentual da população de 0 a 3 anos que frequenta a escola/creche\n",
    "\n",
    "- O indicador representa a proporção de crianças de 0 a 3 anos de idade que frequentam a escola em relação à população total dessa faixa etária. Esse indicador informa apenas se essa população tem acesso ou não à educação, não captando outros fatores relacionados à qualidade da oferta de ensino.\n",
    "\n"
   ]
  },
  {
   "cell_type": "markdown",
   "metadata": {},
   "source": [
    "#### # Passo 1: Listar e carregar os pac otes que serão utilizados"
   ]
  },
  {
   "cell_type": "code",
   "execution_count": 1,
   "metadata": {},
   "outputs": [
    {
     "name": "stderr",
     "output_type": "stream",
     "text": [
      "Loading required package: tidyverse\n",
      "Registered S3 methods overwritten by 'ggplot2':\n",
      "  method         from \n",
      "  [.quosures     rlang\n",
      "  c.quosures     rlang\n",
      "  print.quosures rlang\n",
      "Registered S3 method overwritten by 'rvest':\n",
      "  method            from\n",
      "  read_xml.response xml2\n",
      "-- Attaching packages --------------------------------------- tidyverse 1.2.1 --\n",
      "v ggplot2 3.1.1       v purrr   0.3.2  \n",
      "v tibble  2.1.1       v dplyr   0.8.0.1\n",
      "v tidyr   0.8.3       v stringr 1.4.0  \n",
      "v readr   1.3.1       v forcats 0.4.0  \n",
      "-- Conflicts ------------------------------------------ tidyverse_conflicts() --\n",
      "x dplyr::filter() masks stats::filter()\n",
      "x dplyr::lag()    masks stats::lag()\n",
      "Loading required package: data.table\n",
      "\n",
      "Attaching package: 'data.table'\n",
      "\n",
      "The following objects are masked from 'package:dplyr':\n",
      "\n",
      "    between, first, last\n",
      "\n",
      "The following object is masked from 'package:purrr':\n",
      "\n",
      "    transpose\n",
      "\n",
      "Loading required package: readxl\n",
      "Loading required package: xlsx\n",
      "Warning message in library(package, lib.loc = lib.loc, character.only = TRUE, logical.return = TRUE, :\n",
      "\"there is no package called 'xlsx'\"Loading required package: lubridate\n",
      "\n",
      "Attaching package: 'lubridate'\n",
      "\n",
      "The following objects are masked from 'package:data.table':\n",
      "\n",
      "    hour, isoweek, mday, minute, month, quarter, second, wday, week,\n",
      "    yday, year\n",
      "\n",
      "The following object is masked from 'package:base':\n",
      "\n",
      "    date\n",
      "\n",
      "Loading required package: skimr\n",
      "Warning message in library(package, lib.loc = lib.loc, character.only = TRUE, logical.return = TRUE, :\n",
      "\"there is no package called 'skimr'\"Loading required package: writexl\n",
      "Warning message in library(package, lib.loc = lib.loc, character.only = TRUE, logical.return = TRUE, :\n",
      "\"there is no package called 'writexl'\""
     ]
    },
    {
     "data": {
      "text/html": [
       "<ol>\n",
       "\t<li>TRUE</li>\n",
       "\t<li>TRUE</li>\n",
       "\t<li>TRUE</li>\n",
       "\t<li>TRUE</li>\n",
       "\t<li>FALSE</li>\n",
       "\t<li>TRUE</li>\n",
       "\t<li>FALSE</li>\n",
       "\t<li>FALSE</li>\n",
       "</ol>\n"
      ],
      "text/latex": [
       "\\begin{enumerate}\n",
       "\\item TRUE\n",
       "\\item TRUE\n",
       "\\item TRUE\n",
       "\\item TRUE\n",
       "\\item FALSE\n",
       "\\item TRUE\n",
       "\\item FALSE\n",
       "\\item FALSE\n",
       "\\end{enumerate}\n"
      ],
      "text/markdown": [
       "1. TRUE\n",
       "2. TRUE\n",
       "3. TRUE\n",
       "4. TRUE\n",
       "5. FALSE\n",
       "6. TRUE\n",
       "7. FALSE\n",
       "8. FALSE\n",
       "\n",
       "\n"
      ],
      "text/plain": [
       "[[1]]\n",
       "[1] TRUE\n",
       "\n",
       "[[2]]\n",
       "[1] TRUE\n",
       "\n",
       "[[3]]\n",
       "[1] TRUE\n",
       "\n",
       "[[4]]\n",
       "[1] TRUE\n",
       "\n",
       "[[5]]\n",
       "[1] FALSE\n",
       "\n",
       "[[6]]\n",
       "[1] TRUE\n",
       "\n",
       "[[7]]\n",
       "[1] FALSE\n",
       "\n",
       "[[8]]\n",
       "[1] FALSE\n"
      ]
     },
     "metadata": {},
     "output_type": "display_data"
    }
   ],
   "source": [
    "vetorDePacotes <- c(\"tidyverse\", \"data.table\", \"readxl\", \"readr\", \"xlsx\", \"lubridate\", \"skimr\", \"writexl\")\n",
    "lapply(vetorDePacotes, require, character.only = TRUE)"
   ]
  },
  {
   "cell_type": "markdown",
   "metadata": {},
   "source": [
    "# Passo 2: Carregar os dados da população brasileira\n",
    "A tabela em questão contém a estimativa da população de todos os municípios brasileiros, entre os anos de 2002 e 2020.\n",
    "\n",
    "Fonte:<\"https://sidra.ibge.gov.br/tabela/6579#resultado\">"
   ]
  },
  {
   "cell_type": "code",
   "execution_count": 9,
   "metadata": {},
   "outputs": [
    {
     "name": "stdout",
     "output_type": "stream",
     "text": [
      "Classes 'tbl_df', 'tbl' and 'data.frame':\t5571 obs. of  18 variables:\n",
      " $ Brasil e Município: chr  \"Brasil\" \"Alta Floresta D'Oeste (RO)\" \"Ariquemes (RO)\" \"Cabixi (RO)\" ...\n",
      " $ 2002              : chr  \"174632960\" \"27237\" \"78039\" \"7490\" ...\n",
      " $ 2003              : chr  \"176871437\" \"27563\" \"79680\" \"7478\" ...\n",
      " $ 2004              : chr  \"181569056\" \"29001\" \"86901\" \"7421\" ...\n",
      " $ 2005              : chr  \"184184264\" \"28629\" \"85031\" \"7436\" ...\n",
      " $ 2006              : chr  \"186770562\" \"29005\" \"86924\" \"7421\" ...\n",
      " $ 2008              : chr  \"189605006\" \"24577\" \"84581\" \"6777\" ...\n",
      " $ 2009              : chr  \"191480630\" \"24354\" \"85541\" \"6695\" ...\n",
      " $ 2011              : chr  \"192379287\" \"24228\" \"91570\" \"6221\" ...\n",
      " $ 2012              : num  1.94e+08 2.41e+04 9.27e+04 6.13e+03 7.93e+04 ...\n",
      " $ 2013              : num  2.01e+08 2.57e+04 1.01e+05 6.50e+03 8.59e+04 ...\n",
      " $ 2014              : num  2.03e+08 2.57e+04 1.03e+05 6.42e+03 8.66e+04 ...\n",
      " $ 2015              : num  2.04e+08 2.56e+04 1.04e+05 6.36e+03 8.72e+04 ...\n",
      " $ 2016              : num  2.06e+08 2.55e+04 1.06e+05 6.29e+03 8.79e+04 ...\n",
      " $ 2017              : num  2.08e+08 2.54e+04 1.07e+05 6.22e+03 8.85e+04 ...\n",
      " $ 2018              : num  2.08e+08 2.32e+04 1.06e+05 5.44e+03 8.48e+04 ...\n",
      " $ 2019              : num  2.10e+08 2.29e+04 1.08e+05 5.31e+03 8.54e+04 ...\n",
      " $ 2020              : num  2.12e+08 2.27e+04 1.10e+05 5.19e+03 8.59e+04 ...\n"
     ]
    },
    {
     "data": {
      "text/html": [
       "<table>\n",
       "<thead><tr><th scope=col>Brasil e Município</th><th scope=col>2002</th><th scope=col>2003</th><th scope=col>2004</th><th scope=col>2005</th><th scope=col>2006</th><th scope=col>2008</th><th scope=col>2009</th><th scope=col>2011</th><th scope=col>2012</th><th scope=col>2013</th><th scope=col>2014</th><th scope=col>2015</th><th scope=col>2016</th><th scope=col>2017</th><th scope=col>2018</th><th scope=col>2019</th><th scope=col>2020</th></tr></thead>\n",
       "<tbody>\n",
       "\t<tr><td>Brasil                    </td><td>174632960                 </td><td>176871437                 </td><td>181569056                 </td><td>184184264                 </td><td>186770562                 </td><td>189605006                 </td><td>191480630                 </td><td>192379287                 </td><td>193904015                 </td><td>201032714                 </td><td>202768562                 </td><td>204450049                 </td><td>206081432                 </td><td>207660929                 </td><td>208494900                 </td><td>210147125                 </td><td>211755692                 </td></tr>\n",
       "\t<tr><td>Alta Floresta D'Oeste (RO)</td><td>27237                     </td><td>27563                     </td><td>29001                     </td><td>28629                     </td><td>29005                     </td><td>24577                     </td><td>24354                     </td><td>24228                     </td><td>    24069                 </td><td>    25728                 </td><td>    25652                 </td><td>    25578                 </td><td>    25506                 </td><td>    25437                 </td><td>    23167                 </td><td>    22945                 </td><td>    22728                 </td></tr>\n",
       "\t<tr><td>Ariquemes (RO)            </td><td>78039                     </td><td>79680                     </td><td>86901                     </td><td>85031                     </td><td>86924                     </td><td>84581                     </td><td>85541                     </td><td>91570                     </td><td>    92747                 </td><td>   101269                 </td><td>   102860                 </td><td>   104401                 </td><td>   105896                 </td><td>   107345                 </td><td>   106168                 </td><td>   107863                 </td><td>   109523                 </td></tr>\n",
       "\t<tr><td>Cabixi (RO)               </td><td>7490                      </td><td>7478                      </td><td>7421                      </td><td>7436                      </td><td>7421                      </td><td>6777                      </td><td>6695                      </td><td>6221                      </td><td>     6132                 </td><td>     6495                 </td><td>     6424                 </td><td>     6355                 </td><td>     6289                 </td><td>     6224                 </td><td>     5438                 </td><td>     5312                 </td><td>     5188                 </td></tr>\n",
       "\t<tr><td>Cacoal (RO)               </td><td>74381                     </td><td>74758                     </td><td>76417                     </td><td>75988                     </td><td>76422                     </td><td>78263                     </td><td>78675                     </td><td>78959                     </td><td>    79330                 </td><td>    85863                 </td><td>    86556                 </td><td>    87226                 </td><td>    87877                 </td><td>    88507                 </td><td>    84813                 </td><td>    85359                 </td><td>    85893                 </td></tr>\n",
       "\t<tr><td>Cerejeiras (RO)           </td><td>17925                     </td><td>17794                     </td><td>17217                     </td><td>17366                     </td><td>17215                     </td><td>16784                     </td><td>16622                     </td><td>16939                     </td><td>    16852                 </td><td>    18041                 </td><td>    18013                 </td><td>    17986                 </td><td>    17959                 </td><td>    17934                 </td><td>    16444                 </td><td>    16323                 </td><td>    16204                 </td></tr>\n",
       "</tbody>\n",
       "</table>\n"
      ],
      "text/latex": [
       "\\begin{tabular}{r|llllllllllllllllll}\n",
       " Brasil e Município & 2002 & 2003 & 2004 & 2005 & 2006 & 2008 & 2009 & 2011 & 2012 & 2013 & 2014 & 2015 & 2016 & 2017 & 2018 & 2019 & 2020\\\\\n",
       "\\hline\n",
       "\t Brasil                     & 174632960                  & 176871437                  & 181569056                  & 184184264                  & 186770562                  & 189605006                  & 191480630                  & 192379287                  & 193904015                  & 201032714                  & 202768562                  & 204450049                  & 206081432                  & 207660929                  & 208494900                  & 210147125                  & 211755692                 \\\\\n",
       "\t Alta Floresta D'Oeste (RO) & 27237                      & 27563                      & 29001                      & 28629                      & 29005                      & 24577                      & 24354                      & 24228                      &     24069                  &     25728                  &     25652                  &     25578                  &     25506                  &     25437                  &     23167                  &     22945                  &     22728                 \\\\\n",
       "\t Ariquemes (RO)             & 78039                      & 79680                      & 86901                      & 85031                      & 86924                      & 84581                      & 85541                      & 91570                      &     92747                  &    101269                  &    102860                  &    104401                  &    105896                  &    107345                  &    106168                  &    107863                  &    109523                 \\\\\n",
       "\t Cabixi (RO)                & 7490                       & 7478                       & 7421                       & 7436                       & 7421                       & 6777                       & 6695                       & 6221                       &      6132                  &      6495                  &      6424                  &      6355                  &      6289                  &      6224                  &      5438                  &      5312                  &      5188                 \\\\\n",
       "\t Cacoal (RO)                & 74381                      & 74758                      & 76417                      & 75988                      & 76422                      & 78263                      & 78675                      & 78959                      &     79330                  &     85863                  &     86556                  &     87226                  &     87877                  &     88507                  &     84813                  &     85359                  &     85893                 \\\\\n",
       "\t Cerejeiras (RO)            & 17925                      & 17794                      & 17217                      & 17366                      & 17215                      & 16784                      & 16622                      & 16939                      &     16852                  &     18041                  &     18013                  &     17986                  &     17959                  &     17934                  &     16444                  &     16323                  &     16204                 \\\\\n",
       "\\end{tabular}\n"
      ],
      "text/markdown": [
       "\n",
       "| Brasil e Município | 2002 | 2003 | 2004 | 2005 | 2006 | 2008 | 2009 | 2011 | 2012 | 2013 | 2014 | 2015 | 2016 | 2017 | 2018 | 2019 | 2020 |\n",
       "|---|---|---|---|---|---|---|---|---|---|---|---|---|---|---|---|---|---|\n",
       "| Brasil                     | 174632960                  | 176871437                  | 181569056                  | 184184264                  | 186770562                  | 189605006                  | 191480630                  | 192379287                  | 193904015                  | 201032714                  | 202768562                  | 204450049                  | 206081432                  | 207660929                  | 208494900                  | 210147125                  | 211755692                  |\n",
       "| Alta Floresta D'Oeste (RO) | 27237                      | 27563                      | 29001                      | 28629                      | 29005                      | 24577                      | 24354                      | 24228                      |     24069                  |     25728                  |     25652                  |     25578                  |     25506                  |     25437                  |     23167                  |     22945                  |     22728                  |\n",
       "| Ariquemes (RO)             | 78039                      | 79680                      | 86901                      | 85031                      | 86924                      | 84581                      | 85541                      | 91570                      |     92747                  |    101269                  |    102860                  |    104401                  |    105896                  |    107345                  |    106168                  |    107863                  |    109523                  |\n",
       "| Cabixi (RO)                | 7490                       | 7478                       | 7421                       | 7436                       | 7421                       | 6777                       | 6695                       | 6221                       |      6132                  |      6495                  |      6424                  |      6355                  |      6289                  |      6224                  |      5438                  |      5312                  |      5188                  |\n",
       "| Cacoal (RO)                | 74381                      | 74758                      | 76417                      | 75988                      | 76422                      | 78263                      | 78675                      | 78959                      |     79330                  |     85863                  |     86556                  |     87226                  |     87877                  |     88507                  |     84813                  |     85359                  |     85893                  |\n",
       "| Cerejeiras (RO)            | 17925                      | 17794                      | 17217                      | 17366                      | 17215                      | 16784                      | 16622                      | 16939                      |     16852                  |     18041                  |     18013                  |     17986                  |     17959                  |     17934                  |     16444                  |     16323                  |     16204                  |\n",
       "\n"
      ],
      "text/plain": [
       "  Brasil e Município         2002      2003      2004      2005      2006     \n",
       "1 Brasil                     174632960 176871437 181569056 184184264 186770562\n",
       "2 Alta Floresta D'Oeste (RO) 27237     27563     29001     28629     29005    \n",
       "3 Ariquemes (RO)             78039     79680     86901     85031     86924    \n",
       "4 Cabixi (RO)                7490      7478      7421      7436      7421     \n",
       "5 Cacoal (RO)                74381     74758     76417     75988     76422    \n",
       "6 Cerejeiras (RO)            17925     17794     17217     17366     17215    \n",
       "  2008      2009      2011      2012      2013      2014      2015     \n",
       "1 189605006 191480630 192379287 193904015 201032714 202768562 204450049\n",
       "2 24577     24354     24228         24069     25728     25652     25578\n",
       "3 84581     85541     91570         92747    101269    102860    104401\n",
       "4 6777      6695      6221           6132      6495      6424      6355\n",
       "5 78263     78675     78959         79330     85863     86556     87226\n",
       "6 16784     16622     16939         16852     18041     18013     17986\n",
       "  2016      2017      2018      2019      2020     \n",
       "1 206081432 207660929 208494900 210147125 211755692\n",
       "2     25506     25437     23167     22945     22728\n",
       "3    105896    107345    106168    107863    109523\n",
       "4      6289      6224      5438      5312      5188\n",
       "5     87877     88507     84813     85359     85893\n",
       "6     17959     17934     16444     16323     16204"
      ]
     },
     "metadata": {},
     "output_type": "display_data"
    }
   ],
   "source": [
    "populacaoBrasil <- read_excel(\"C:\\\\Database\\\\IBGE\\\\PopulacaoEstimada.xlsx\", \n",
    "                              skip = 3,  n_max = 5571)\n",
    "str(populacaoBrasil)\n",
    "head(populacaoBrasil)"
   ]
  },
  {
   "cell_type": "markdown",
   "metadata": {},
   "source": [
    "# Passo 3: Importar a estimativa da população brasileira por idade\n",
    "Este passo é fundamental, pois contéma estimativa da população brasileira distribuída por idade. Estes dados serão usados para estimar os índices que serão tutilizados na estimativa das das idades da população nos municípios, dado que esta informação não se encontra disponível."
   ]
  },
  {
   "cell_type": "markdown",
   "metadata": {},
   "source": [
    "# Passo 4: Calcular o indece das idades\n",
    "Este índice será usado no cálculo das idades nos municípios."
   ]
  },
  {
   "cell_type": "code",
   "execution_count": 17,
   "metadata": {},
   "outputs": [
    {
     "data": {
      "text/html": [
       "<table>\n",
       "<thead><tr><th scope=col>2014</th><th scope=col>2015</th><th scope=col>2016</th><th scope=col>2017</th><th scope=col>2018</th><th scope=col>2019</th><th scope=col>2020</th><th scope=col>2021</th><th scope=col>2022</th><th scope=col>2023</th><th scope=col>2024</th></tr></thead>\n",
       "<tbody>\n",
       "\t<tr><td>0.01463232</td><td>0.01479969</td><td>0.01437552</td><td>0.01414845</td><td>0.01428444</td><td>0.01408987</td><td>0.01389394</td><td>0.01369493</td><td>0.01348768</td><td>0.01327425</td><td>0.01306255</td></tr>\n",
       "\t<tr><td>0.01441407</td><td>0.01448033</td><td>0.01465430</td><td>0.01423869</td><td>0.01401291</td><td>0.01415212</td><td>0.01396380</td><td>0.01377406</td><td>0.01358129</td><td>0.01338033</td><td>0.01317302</td></tr>\n",
       "\t<tr><td>0.01444485</td><td>0.01427855</td><td>0.01435100</td><td>0.01452727</td><td>0.01411386</td><td>0.01389371</td><td>0.01403562</td><td>0.01385283</td><td>0.01366865</td><td>0.01348157</td><td>0.01328618</td></tr>\n",
       "\t<tr><td>0.01439041</td><td>0.01431306</td><td>0.01415490</td><td>0.01423032</td><td>0.01440357</td><td>0.01399730</td><td>0.01378269</td><td>0.01392733</td><td>0.01374997</td><td>0.01357131</td><td>0.01338966</td></tr>\n",
       "\t<tr><td>0.01434840</td><td>0.01426061</td><td>0.01419053</td><td>0.01403727</td><td>0.01411048</td><td>0.01428591</td><td>0.01388672</td><td>0.01367756</td><td>0.01382513</td><td>0.01365322</td><td>0.01347988</td></tr>\n",
       "\t<tr><td>0.01456218</td><td>0.01422009</td><td>0.01413960</td><td>0.01407365</td><td>0.01392008</td><td>0.01399616</td><td>0.01417396</td><td>0.01378169</td><td>0.01357803</td><td>0.01372866</td><td>0.01356208</td></tr>\n",
       "</tbody>\n",
       "</table>\n"
      ],
      "text/latex": [
       "\\begin{tabular}{r|lllllllllll}\n",
       " 2014 & 2015 & 2016 & 2017 & 2018 & 2019 & 2020 & 2021 & 2022 & 2023 & 2024\\\\\n",
       "\\hline\n",
       "\t 0.01463232 & 0.01479969 & 0.01437552 & 0.01414845 & 0.01428444 & 0.01408987 & 0.01389394 & 0.01369493 & 0.01348768 & 0.01327425 & 0.01306255\\\\\n",
       "\t 0.01441407 & 0.01448033 & 0.01465430 & 0.01423869 & 0.01401291 & 0.01415212 & 0.01396380 & 0.01377406 & 0.01358129 & 0.01338033 & 0.01317302\\\\\n",
       "\t 0.01444485 & 0.01427855 & 0.01435100 & 0.01452727 & 0.01411386 & 0.01389371 & 0.01403562 & 0.01385283 & 0.01366865 & 0.01348157 & 0.01328618\\\\\n",
       "\t 0.01439041 & 0.01431306 & 0.01415490 & 0.01423032 & 0.01440357 & 0.01399730 & 0.01378269 & 0.01392733 & 0.01374997 & 0.01357131 & 0.01338966\\\\\n",
       "\t 0.01434840 & 0.01426061 & 0.01419053 & 0.01403727 & 0.01411048 & 0.01428591 & 0.01388672 & 0.01367756 & 0.01382513 & 0.01365322 & 0.01347988\\\\\n",
       "\t 0.01456218 & 0.01422009 & 0.01413960 & 0.01407365 & 0.01392008 & 0.01399616 & 0.01417396 & 0.01378169 & 0.01357803 & 0.01372866 & 0.01356208\\\\\n",
       "\\end{tabular}\n"
      ],
      "text/markdown": [
       "\n",
       "| 2014 | 2015 | 2016 | 2017 | 2018 | 2019 | 2020 | 2021 | 2022 | 2023 | 2024 |\n",
       "|---|---|---|---|---|---|---|---|---|---|---|\n",
       "| 0.01463232 | 0.01479969 | 0.01437552 | 0.01414845 | 0.01428444 | 0.01408987 | 0.01389394 | 0.01369493 | 0.01348768 | 0.01327425 | 0.01306255 |\n",
       "| 0.01441407 | 0.01448033 | 0.01465430 | 0.01423869 | 0.01401291 | 0.01415212 | 0.01396380 | 0.01377406 | 0.01358129 | 0.01338033 | 0.01317302 |\n",
       "| 0.01444485 | 0.01427855 | 0.01435100 | 0.01452727 | 0.01411386 | 0.01389371 | 0.01403562 | 0.01385283 | 0.01366865 | 0.01348157 | 0.01328618 |\n",
       "| 0.01439041 | 0.01431306 | 0.01415490 | 0.01423032 | 0.01440357 | 0.01399730 | 0.01378269 | 0.01392733 | 0.01374997 | 0.01357131 | 0.01338966 |\n",
       "| 0.01434840 | 0.01426061 | 0.01419053 | 0.01403727 | 0.01411048 | 0.01428591 | 0.01388672 | 0.01367756 | 0.01382513 | 0.01365322 | 0.01347988 |\n",
       "| 0.01456218 | 0.01422009 | 0.01413960 | 0.01407365 | 0.01392008 | 0.01399616 | 0.01417396 | 0.01378169 | 0.01357803 | 0.01372866 | 0.01356208 |\n",
       "\n"
      ],
      "text/plain": [
       "  2014       2015       2016       2017       2018       2019       2020      \n",
       "1 0.01463232 0.01479969 0.01437552 0.01414845 0.01428444 0.01408987 0.01389394\n",
       "2 0.01441407 0.01448033 0.01465430 0.01423869 0.01401291 0.01415212 0.01396380\n",
       "3 0.01444485 0.01427855 0.01435100 0.01452727 0.01411386 0.01389371 0.01403562\n",
       "4 0.01439041 0.01431306 0.01415490 0.01423032 0.01440357 0.01399730 0.01378269\n",
       "5 0.01434840 0.01426061 0.01419053 0.01403727 0.01411048 0.01428591 0.01388672\n",
       "6 0.01456218 0.01422009 0.01413960 0.01407365 0.01392008 0.01399616 0.01417396\n",
       "  2021       2022       2023       2024      \n",
       "1 0.01369493 0.01348768 0.01327425 0.01306255\n",
       "2 0.01377406 0.01358129 0.01338033 0.01317302\n",
       "3 0.01385283 0.01366865 0.01348157 0.01328618\n",
       "4 0.01392733 0.01374997 0.01357131 0.01338966\n",
       "5 0.01367756 0.01382513 0.01365322 0.01347988\n",
       "6 0.01378169 0.01357803 0.01372866 0.01356208"
      ]
     },
     "metadata": {},
     "output_type": "display_data"
    }
   ],
   "source": [
    "indices <- populacaoIdade\n",
    "for (i in 1:length(populacaoIdade)) {\n",
    "  indices[i] = populacaoIdade[,i]/apply(populacaoIdade[,i], 2, sum)\n",
    "}\n",
    "# Selecionando os indices que interessam\n",
    "indicesPNE <- indices[5:15]\n",
    "head(indicesPNE)"
   ]
  },
  {
   "cell_type": "markdown",
   "metadata": {},
   "source": [
    "# Passo 4: Estimar a população das cidades brasileira por idade"
   ]
  }
 ],
 "metadata": {
  "kernelspec": {
   "display_name": "R",
   "language": "R",
   "name": "ir"
  },
  "language_info": {
   "codemirror_mode": "r",
   "file_extension": ".r",
   "mimetype": "text/x-r-source",
   "name": "R",
   "pygments_lexer": "r",
   "version": "3.6.1"
  }
 },
 "nbformat": 4,
 "nbformat_minor": 4
}
